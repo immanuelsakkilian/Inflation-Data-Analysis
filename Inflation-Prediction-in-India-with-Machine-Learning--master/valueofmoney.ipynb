{
 "cells": [
  {
   "cell_type": "code",
   "execution_count": 1,
   "metadata": {},
   "outputs": [
    {
     "name": "stdout",
     "output_type": "stream",
     "text": [
      "   YEAR  VALUE_OF_MONEY\n",
      "0  1958          100.00\n",
      "1  1959          105.15\n",
      "2  1960          109.60\n",
      "3  1961          109.60\n",
      "4  1962          113.11\n",
      "(49, 1) (49,) (13, 1) (13,)\n"
     ]
    }
   ],
   "source": [
    "import pandas as pd\n",
    "from sklearn.model_selection import train_test_split\n",
    "#import os\n",
    "#print(os.getcwd())\n",
    "val_money=pd.read_csv(\"VALUE_OF_MONEY.csv\")\n",
    "print(val_money.head())\n",
    "X_train, X_test, y_train, y_test = train_test_split(val_money[['YEAR']],val_money.VALUE_OF_MONEY,test_size=0.20, random_state=42)\n",
    "print(X_train.shape,y_train.shape,X_test.shape,y_test.shape)"
   ]
  },
  {
   "cell_type": "code",
   "execution_count": 2,
   "metadata": {},
   "outputs": [
    {
     "data": {
      "text/plain": [
       "array([ 3676.98237353,  4276.59034662, -1319.75073557,  4376.52500881,\n",
       "        -820.07742466,  3477.11304917,   279.20385934,  -120.53478938,\n",
       "        1178.61581898,  4576.39433317,  1678.28912989,  -420.33877593,\n",
       "        3377.17838699])"
      ]
     },
     "execution_count": 2,
     "metadata": {},
     "output_type": "execute_result"
    }
   ],
   "source": [
    "from sklearn.linear_model import Ridge\n",
    "clf = Ridge(alpha=1.0)\n",
    "clf.fit(X_train, y_train) \n",
    "predictions= clf.predict(X_test)\n",
    "predictions"
   ]
  },
  {
   "cell_type": "code",
   "execution_count": 17,
   "metadata": {},
   "outputs": [],
   "source": [
    "from sklearn.linear_model import LinearRegression\n",
    "model=reg = LinearRegression()\n",
    "reg.fit(X_train, y_train)\n",
    "pred=reg.predict(X_test)"
   ]
  },
  {
   "cell_type": "code",
   "execution_count": 4,
   "metadata": {},
   "outputs": [
    {
     "name": "stderr",
     "output_type": "stream",
     "text": [
      "D:\\Abhishek\\anaconda\\lib\\site-packages\\sklearn\\ensemble\\weight_boosting.py:29: DeprecationWarning: numpy.core.umath_tests is an internal NumPy module and should not be imported. It will be removed in a future NumPy release.\n",
      "  from numpy.core.umath_tests import inner1d\n"
     ]
    }
   ],
   "source": [
    "#gradient boosting regression\n",
    "from sklearn import ensemble\n",
    "from sklearn.metrics import mean_squared_error\n",
    "from sklearn.metrics import mean_absolute_error\n",
    "from sklearn.metrics import r2_score\n",
    "params = {'n_estimators': 500, 'max_depth': 4, 'min_samples_split': 2,\n",
    "          'learning_rate': 0.01, 'loss': 'ls'}\n",
    "clfg = ensemble.GradientBoostingRegressor(**params)\n",
    "clfg.fit(X_train, y_train)\n",
    "predg=clfg.predict(X_test)"
   ]
  },
  {
   "cell_type": "code",
   "execution_count": 5,
   "metadata": {},
   "outputs": [
    {
     "name": "stdout",
     "output_type": "stream",
     "text": [
      "[3114.09426977 5361.73879519  120.49419605 6585.38857352  124.28839902\n",
      " 3114.09426977  236.36679673  197.34753323  505.01064964 6585.38857352\n",
      "  749.57099133  163.4159802  2667.98773406]\n",
      "50    3296.08\n",
      "56    5878.83\n",
      "0      100.00\n",
      "57    6223.20\n",
      "5      115.93\n",
      "48    2932.45\n",
      "16     281.26\n",
      "12     191.57\n",
      "25     537.70\n",
      "59    6764.34\n",
      "30     813.58\n",
      "9      174.24\n",
      "47    2777.83\n",
      "Name: VALUE_OF_MONEY, dtype: float64\n"
     ]
    }
   ],
   "source": [
    "print(predg)\n",
    "print(y_test)"
   ]
  },
  {
   "cell_type": "code",
   "execution_count": 31,
   "metadata": {},
   "outputs": [
    {
     "name": "stderr",
     "output_type": "stream",
     "text": [
      "D:\\Abhishek\\anaconda\\lib\\site-packages\\ipykernel_launcher.py:5: DataConversionWarning: A column-vector y was passed when a 1d array was expected. Please change the shape of y to (n_samples,), for example using ravel().\n",
      "  \"\"\"\n"
     ]
    },
    {
     "name": "stdout",
     "output_type": "stream",
     "text": [
      "[4587.18950786 4587.18950786 4587.18950786 4587.18950786 4587.18950786\n",
      " 4587.18950786]\n"
     ]
    }
   ],
   "source": [
    "from sklearn.ensemble import RandomForestRegressor\n",
    "from sklearn.datasets import make_regression\n",
    "RandomForestRegressor()\n",
    "regr = RandomForestRegressor(max_depth=2, random_state=0,n_estimators=100)\n",
    "modelr=regr.fit(X_train, y_train)\n",
    "print(regr.predict(X_test))"
   ]
  },
  {
   "cell_type": "code",
   "execution_count": 7,
   "metadata": {},
   "outputs": [
    {
     "name": "stdout",
     "output_type": "stream",
     "text": [
      "[ 3677.11621161  4276.76462498 -1319.95389984  4376.70602721\n",
      "  -820.2468887   3477.23340715   279.10853582  -120.65707309\n",
      "  1178.58115588  4576.58883167  1678.28816703  -420.48127978\n",
      "  3377.29200492]\n"
     ]
    }
   ],
   "source": [
    "from sklearn import linear_model\n",
    "clfi = linear_model.Lasso(alpha=0.1)\n",
    "clfi.fit(X_train, y_train)\n",
    "print(clfi.predict(X_test))"
   ]
  },
  {
   "cell_type": "code",
   "execution_count": 8,
   "metadata": {},
   "outputs": [
    {
     "name": "stdout",
     "output_type": "stream",
     "text": [
      "          Ridge    Linear   XGBoost  RandomForest     Lasso\n",
      "TRAIN  0.777600  0.999954  0.999954      0.980355  0.777600\n",
      "TEST   0.793255  0.793263  0.993353      0.981103  0.793263\n"
     ]
    }
   ],
   "source": [
    "d={'Ridge': [clf.score(X_train,y_train), clf.score(X_test,y_test)] ,'Linear': [clfg.score(X_train,y_train), reg.score(X_test,y_test)], 'XGBoost': [clfg.score(X_train,y_train), clfg.score(X_test,y_test)] ,'RandomForest':[regr.score(X_train,y_train), regr.score(X_test,y_test)] ,'Lasso':[clfi.score(X_train,y_train), clfi.score(X_test,y_test)]}\n",
    "\n",
    "scoresu  = pd.DataFrame(data=d)\n",
    "scoresu=scoresu.rename({0: 'TRAIN', 1: 'TEST'})\n",
    "print(scoresu)"
   ]
  },
  {
   "cell_type": "code",
   "execution_count": 9,
   "metadata": {},
   "outputs": [
    {
     "data": {
      "text/plain": [
       "array([7365.28131406])"
      ]
     },
     "execution_count": 9,
     "metadata": {},
     "output_type": "execute_result"
    }
   ],
   "source": [
    "clfg.predict(2020)"
   ]
  },
  {
   "cell_type": "code",
   "execution_count": 43,
   "metadata": {},
   "outputs": [
    {
     "data": {
      "image/png": "[encoded data removed]",
      "text/plain": [
       "<Figure size 432x288 with 1 Axes>"
      ]
     },
     "metadata": {
      "needs_background": "light"
     },
     "output_type": "display_data"
    }
   ],
   "source": [
    "import matplotlib.pyplot as plt\n",
    "plt.xlabel('YEAR')\n",
    "plt.ylabel('VALUE OF MONEY')\n",
    "plt.title('VALUE OF MONEY')\n",
    "x = val_money['YEAR']\n",
    "y = val_money['VALUE_OF_MONEY']\n",
    "plt.plot(x,y)\n",
    "plt.show()"
   ]
  },
  {
   "cell_type": "code",
   "execution_count": 32,
   "metadata": {},
   "outputs": [
    {
     "name": "stdout",
     "output_type": "stream",
     "text": [
      "KFold(n_splits=10, random_state=None, shuffle=False)\n",
      "TRAIN: [ 7  8  9 10 11 12 13 14 15 16 17 18 19 20 21 22 23 24 25 26 27 28 29 30\n",
      " 31 32 33 34 35 36 37 38 39 40 41 42 43 44 45 46 47 48 49 50 51 52 53 54\n",
      " 55 56 57 58 59 60 61] TEST: [0 1 2 3 4 5 6]\n",
      "TRAIN: [ 0  1  2  3  4  5  6 14 15 16 17 18 19 20 21 22 23 24 25 26 27 28 29 30\n",
      " 31 32 33 34 35 36 37 38 39 40 41 42 43 44 45 46 47 48 49 50 51 52 53 54\n",
      " 55 56 57 58 59 60 61] TEST: [ 7  8  9 10 11 12 13]\n",
      "TRAIN: [ 0  1  2  3  4  5  6  7  8  9 10 11 12 13 20 21 22 23 24 25 26 27 28 29\n",
      " 30 31 32 33 34 35 36 37 38 39 40 41 42 43 44 45 46 47 48 49 50 51 52 53\n",
      " 54 55 56 57 58 59 60 61] TEST: [14 15 16 17 18 19]\n",
      "TRAIN: [ 0  1  2  3  4  5  6  7  8  9 10 11 12 13 14 15 16 17 18 19 26 27 28 29\n",
      " 30 31 32 33 34 35 36 37 38 39 40 41 42 43 44 45 46 47 48 49 50 51 52 53\n",
      " 54 55 56 57 58 59 60 61] TEST: [20 21 22 23 24 25]\n",
      "TRAIN: [ 0  1  2  3  4  5  6  7  8  9 10 11 12 13 14 15 16 17 18 19 20 21 22 23\n",
      " 24 25 32 33 34 35 36 37 38 39 40 41 42 43 44 45 46 47 48 49 50 51 52 53\n",
      " 54 55 56 57 58 59 60 61] TEST: [26 27 28 29 30 31]\n",
      "TRAIN: [ 0  1  2  3  4  5  6  7  8  9 10 11 12 13 14 15 16 17 18 19 20 21 22 23\n",
      " 24 25 26 27 28 29 30 31 38 39 40 41 42 43 44 45 46 47 48 49 50 51 52 53\n",
      " 54 55 56 57 58 59 60 61] TEST: [32 33 34 35 36 37]\n",
      "TRAIN: [ 0  1  2  3  4  5  6  7  8  9 10 11 12 13 14 15 16 17 18 19 20 21 22 23\n",
      " 24 25 26 27 28 29 30 31 32 33 34 35 36 37 44 45 46 47 48 49 50 51 52 53\n",
      " 54 55 56 57 58 59 60 61] TEST: [38 39 40 41 42 43]\n",
      "TRAIN: [ 0  1  2  3  4  5  6  7  8  9 10 11 12 13 14 15 16 17 18 19 20 21 22 23\n",
      " 24 25 26 27 28 29 30 31 32 33 34 35 36 37 38 39 40 41 42 43 50 51 52 53\n",
      " 54 55 56 57 58 59 60 61] TEST: [44 45 46 47 48 49]\n",
      "TRAIN: [ 0  1  2  3  4  5  6  7  8  9 10 11 12 13 14 15 16 17 18 19 20 21 22 23\n",
      " 24 25 26 27 28 29 30 31 32 33 34 35 36 37 38 39 40 41 42 43 44 45 46 47\n",
      " 48 49 56 57 58 59 60 61] TEST: [50 51 52 53 54 55]\n",
      "TRAIN: [ 0  1  2  3  4  5  6  7  8  9 10 11 12 13 14 15 16 17 18 19 20 21 22 23\n",
      " 24 25 26 27 28 29 30 31 32 33 34 35 36 37 38 39 40 41 42 43 44 45 46 47\n",
      " 48 49 50 51 52 53 54 55] TEST: [56 57 58 59 60 61]\n",
      "[[1958]\n",
      " [1959]\n",
      " [1960]\n",
      " [1961]\n",
      " [1962]\n",
      " [1963]\n",
      " [1964]\n",
      " [1965]\n",
      " [1966]\n",
      " [1967]\n",
      " [1968]\n",
      " [1969]\n",
      " [1970]\n",
      " [1971]\n",
      " [1972]\n",
      " [1973]\n",
      " [1974]\n",
      " [1975]\n",
      " [1976]\n",
      " [1977]\n",
      " [1978]\n",
      " [1979]\n",
      " [1980]\n",
      " [1981]\n",
      " [1982]\n",
      " [1983]\n",
      " [1984]\n",
      " [1985]\n",
      " [1986]\n",
      " [1987]\n",
      " [1988]\n",
      " [1989]\n",
      " [1990]\n",
      " [1991]\n",
      " [1992]\n",
      " [1993]\n",
      " [1994]\n",
      " [1995]\n",
      " [1996]\n",
      " [1997]\n",
      " [1998]\n",
      " [1999]\n",
      " [2000]\n",
      " [2001]\n",
      " [2002]\n",
      " [2003]\n",
      " [2004]\n",
      " [2005]\n",
      " [2006]\n",
      " [2007]\n",
      " [2008]\n",
      " [2009]\n",
      " [2010]\n",
      " [2011]\n",
      " [2012]\n",
      " [2013]]\n",
      "[[ 100.  ]\n",
      " [ 105.15]\n",
      " [ 109.6 ]\n",
      " [ 109.6 ]\n",
      " [ 113.11]\n",
      " [ 115.93]\n",
      " [ 123.89]\n",
      " [ 144.96]\n",
      " [ 152.93]\n",
      " [ 174.24]\n",
      " [ 189.23]\n",
      " [ 185.01]\n",
      " [ 191.57]\n",
      " [ 201.17]\n",
      " [ 211.01]\n",
      " [ 227.17]\n",
      " [ 281.26]\n",
      " [ 352.69]\n",
      " [ 330.91]\n",
      " [ 330.91]\n",
      " [ 356.91]\n",
      " [ 362.3 ]\n",
      " [ 404.68]\n",
      " [ 441.45]\n",
      " [ 497.66]\n",
      " [ 537.7 ]\n",
      " [ 604.68]\n",
      " [ 636.07]\n",
      " [ 681.5 ]\n",
      " [ 744.26]\n",
      " [ 813.58]\n",
      " [ 885.07]\n",
      " [ 933.05]\n",
      " [1061.01]\n",
      " [1199.64]\n",
      " [1295.61]\n",
      " [1407.57]\n",
      " [1540.87]\n",
      " [1690.16]\n",
      " [1866.1 ]\n",
      " [1983.4 ]\n",
      " [2287.31]\n",
      " [2297.97]\n",
      " [2377.95]\n",
      " [2500.58]\n",
      " [2580.55]\n",
      " [2676.53]\n",
      " [2777.83]\n",
      " [2932.45]\n",
      " [3123.9 ]\n",
      " [3296.08]\n",
      " [3615.85]\n",
      " [4157.  ]\n",
      " [4550.56]\n",
      " [4845.73]\n",
      " [5386.88]]\n"
     ]
    }
   ],
   "source": [
    "import numpy as np\n",
    "from sklearn.model_selection import KFold\n",
    "X = np.array(val_money[['YEAR']])\n",
    "y = np.array(val_money[['VALUE_OF_MONEY']])\n",
    "kf = KFold(n_splits=10)\n",
    "kf.get_n_splits(X)\n",
    "print(kf)  \n",
    "KFold(n_splits=10, random_state=None, shuffle=False)\n",
    "for train_index, test_index in kf.split(X):\n",
    "    print(\"TRAIN:\", train_index, \"TEST:\", test_index)\n",
    "    X_train = X[train_index]\n",
    "    X_test =  X[test_index]\n",
    "    y_train, y_test = y[train_index], y[test_index]\n",
    "print(X_train)\n",
    "print(y_train)"
   ]
  },
  {
   "cell_type": "code",
   "execution_count": 30,
   "metadata": {},
   "outputs": [
    {
     "data": {
      "text/plain": [
       "array([4776.48235953])"
      ]
     },
     "execution_count": 30,
     "metadata": {},
     "output_type": "execute_result"
    }
   ],
   "source": [
    "model.predict(2019)"
   ]
  },
  {
   "cell_type": "code",
   "execution_count": 29,
   "metadata": {},
   "outputs": [
    {
     "data": {
      "text/plain": [
       "array([[5878.83],\n",
       "       [6223.2 ],\n",
       "       [6616.76],\n",
       "       [6764.34],\n",
       "       [7034.92],\n",
       "       [7403.89]])"
      ]
     },
     "execution_count": 29,
     "metadata": {},
     "output_type": "execute_result"
    }
   ],
   "source": [
    "y_test"
   ]
  },
  {
   "cell_type": "code",
   "execution_count": 13,
   "metadata": {},
   "outputs": [
    {
     "data": {
      "text/plain": [
       "array([7365.28131406])"
      ]
     },
     "execution_count": 13,
     "metadata": {},
     "output_type": "execute_result"
    }
   ],
   "source": [
    "clfg.predict(2025)"
   ]
  },
  {
   "cell_type": "code",
   "execution_count": 14,
   "metadata": {},
   "outputs": [
    {
     "data": {
      "text/plain": [
       "array([7365.28131406])"
      ]
     },
     "execution_count": 14,
     "metadata": {},
     "output_type": "execute_result"
    }
   ],
   "source": [
    "clfg.predict(2020)"
   ]
  },
  {
   "cell_type": "code",
   "execution_count": 15,
   "metadata": {},
   "outputs": [
    {
     "data": {
      "text/plain": [
       "array([7365.28131406])"
      ]
     },
     "execution_count": 15,
     "metadata": {},
     "output_type": "execute_result"
    }
   ],
   "source": [
    "clfg.predict(2019)"
   ]
  },
  {
   "cell_type": "code",
   "execution_count": 16,
   "metadata": {},
   "outputs": [
    {
     "data": {
      "text/plain": [
       "array([6999.91776573])"
      ]
     },
     "execution_count": 16,
     "metadata": {},
     "output_type": "execute_result"
    }
   ],
   "source": [
    "clfg.predict(2018)"
   ]
  },
  {
   "cell_type": "code",
   "execution_count": 33,
   "metadata": {},
   "outputs": [
    {
     "name": "stderr",
     "output_type": "stream",
     "text": [
      "D:\\Abhishek\\anaconda\\lib\\site-packages\\ipykernel_launcher.py:1: DataConversionWarning: A column-vector y was passed when a 1d array was expected. Please change the shape of y to (n_samples,), for example using ravel().\n",
      "  \"\"\"Entry point for launching an IPython kernel.\n"
     ]
    }
   ],
   "source": [
    "modelr=regr.fit(X_train, y_train)"
   ]
  },
  {
   "cell_type": "code",
   "execution_count": 37,
   "metadata": {},
   "outputs": [
    {
     "data": {
      "text/plain": [
       "array([4587.18950786])"
      ]
     },
     "execution_count": 37,
     "metadata": {},
     "output_type": "execute_result"
    }
   ],
   "source": [
    "modelr.predict(2020)"
   ]
  },
  {
   "cell_type": "code",
   "execution_count": 42,
   "metadata": {},
   "outputs": [
    {
     "name": "stderr",
     "output_type": "stream",
     "text": [
      "D:\\Abhishek\\anaconda\\lib\\site-packages\\sklearn\\utils\\validation.py:578: DataConversionWarning: A column-vector y was passed when a 1d array was expected. Please change the shape of y to (n_samples, ), for example using ravel().\n",
      "  y = column_or_1d(y, warn=True)\n"
     ]
    }
   ],
   "source": [
    "\n",
    "#y_train = column_or_1d(y_train, warn=True)\n",
    "modelg=clfg.fit(X_train, y_train)"
   ]
  },
  {
   "cell_type": "code",
   "execution_count": 39,
   "metadata": {},
   "outputs": [
    {
     "data": {
      "text/plain": [
       "array([5359.78970271])"
      ]
     },
     "execution_count": 39,
     "metadata": {},
     "output_type": "execute_result"
    }
   ],
   "source": [
    "modelg.predict(2019)"
   ]
  },
  {
   "cell_type": "code",
   "execution_count": null,
   "metadata": {},
   "outputs": [],
   "source": []
  }
 ],
 "metadata": {
  "kernelspec": {
   "display_name": "Python 3",
   "language": "python",
   "name": "python3"
  },
  "language_info": {
   "codemirror_mode": {
    "name": "ipython",
    "version": 3
   },
   "file_extension": ".py",
   "mimetype": "text/x-python",
   "name": "python",
   "nbconvert_exporter": "python",
   "pygments_lexer": "ipython3",
   "version": "3.7.3"
  }
 },
 "nbformat": 4,
 "nbformat_minor": 2
}
