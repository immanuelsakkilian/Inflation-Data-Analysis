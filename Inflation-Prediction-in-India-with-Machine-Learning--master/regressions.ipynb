{
 "cells": [
  {
   "cell_type": "markdown",
   "metadata": {},
   "source": [
    "## Problem Statement:\n",
    "   Inflation can be defined as the loss of purchasing power of a flat currency over a period of time.\n",
    "   It plays akey role in designing the macro economic policy of central banks across the world. During period of high growth rate,inflation rises and during periods of lowor negative growth rates,deflation takes place.\n",
    "   \n",
    "   We undertook a study to find out the correlation inflation and CPI(Consumer Price Index).We have implemented various machine learning algorithms to find out pattern of rate of inflation over the time.Finally by using Karl Pearsons coefficient we have been successful in finding out top 5 factors which has affected inflation.\n",
    "   \n",
    "   \n",
    "   \n"
   ]
  },
  {
   "cell_type": "code",
   "execution_count": 1,
   "metadata": {},
   "outputs": [],
   "source": [
    "#importing libraries\n",
    "\n",
    "from sklearn.preprocessing import LabelEncoder\n",
    "from sklearn.model_selection import train_test_split\n",
    "import math\n",
    "import pandas as pd\n",
    "from sklearn.utils import shuffle\n",
    "import matplotlib.pyplot as plt\n",
    "from sklearn.metrics import accuracy_score\n",
    "from sklearn.metrics import mean_squared_error\n",
    "from sklearn.metrics import mean_absolute_error\n",
    "from sklearn.metrics import r2_score\n",
    "from sklearn.linear_model import Ridge\n",
    "from sklearn.linear_model import LinearRegression\n",
    "from sklearn import ensemble\n",
    "from sklearn.ensemble import RandomForestRegressor\n",
    "from sklearn.datasets import make_regression\n",
    "from sklearn import linear_model"
   ]
  },
  {
   "cell_type": "markdown",
   "metadata": {},
   "source": [
    "### we have three datasets:\n",
    "### 1.) urban cpi (related variables-- df,X_train,y_train, clf, reg,etc...)\n",
    "### 2.) Rural cpi  (related variables-- df1,X_train1,y_train1, clf1, reg1,etc...)\n",
    "### 3.) urban + rural cpi (related variables-- df2,X_train2,y_train2, clf2, reg2,etc...)   "
   ]
  },
  {
   "cell_type": "code",
   "execution_count": 3,
   "metadata": {},
   "outputs": [
    {
     "data": {
      "text/html": [
       "<div>\n",
       "<style scoped>\n",
       "    .dataframe tbody tr th:only-of-type {\n",
       "        vertical-align: middle;\n",
       "    }\n",
       "\n",
       "    .dataframe tbody tr th {\n",
       "        vertical-align: top;\n",
       "    }\n",
       "\n",
       "    .dataframe thead th {\n",
       "        text-align: right;\n",
       "    }\n",
       "</style>\n",
       "<table border=\"1\" class=\"dataframe\">\n",
       "  <thead>\n",
       "    <tr style=\"text-align: right;\">\n",
       "      <th></th>\n",
       "      <th>Sector</th>\n",
       "      <th>Year</th>\n",
       "      <th>Month</th>\n",
       "      <th>Cereals_and_products</th>\n",
       "      <th>Meat_and_fish</th>\n",
       "      <th>Egg</th>\n",
       "      <th>Milk_and_products</th>\n",
       "      <th>Oils_and_fats</th>\n",
       "      <th>Fruits</th>\n",
       "      <th>Vegetables</th>\n",
       "      <th>...</th>\n",
       "      <th>Housing</th>\n",
       "      <th>Fuel_and_light</th>\n",
       "      <th>Household_goods_ and_services</th>\n",
       "      <th>Health</th>\n",
       "      <th>Transport_and_ communication</th>\n",
       "      <th>Recreation_and _amusement</th>\n",
       "      <th>Education</th>\n",
       "      <th>Personal_care_and_effects</th>\n",
       "      <th>Miscellaneous</th>\n",
       "      <th>General_index</th>\n",
       "    </tr>\n",
       "  </thead>\n",
       "  <tbody>\n",
       "    <tr>\n",
       "      <td>0</td>\n",
       "      <td>Urban</td>\n",
       "      <td>2013</td>\n",
       "      <td>January</td>\n",
       "      <td>110.5</td>\n",
       "      <td>109.1</td>\n",
       "      <td>113.0</td>\n",
       "      <td>103.6</td>\n",
       "      <td>103.4</td>\n",
       "      <td>102.3</td>\n",
       "      <td>102.9</td>\n",
       "      <td>...</td>\n",
       "      <td>100.3</td>\n",
       "      <td>105.4</td>\n",
       "      <td>104.8</td>\n",
       "      <td>104.1</td>\n",
       "      <td>103.2</td>\n",
       "      <td>102.9</td>\n",
       "      <td>103.5</td>\n",
       "      <td>104.3</td>\n",
       "      <td>103.7</td>\n",
       "      <td>104.0</td>\n",
       "    </tr>\n",
       "    <tr>\n",
       "      <td>1</td>\n",
       "      <td>Urban</td>\n",
       "      <td>2013</td>\n",
       "      <td>February</td>\n",
       "      <td>112.9</td>\n",
       "      <td>112.9</td>\n",
       "      <td>116.9</td>\n",
       "      <td>104.0</td>\n",
       "      <td>103.5</td>\n",
       "      <td>103.1</td>\n",
       "      <td>104.9</td>\n",
       "      <td>...</td>\n",
       "      <td>100.4</td>\n",
       "      <td>105.7</td>\n",
       "      <td>105.2</td>\n",
       "      <td>104.7</td>\n",
       "      <td>104.4</td>\n",
       "      <td>103.3</td>\n",
       "      <td>103.7</td>\n",
       "      <td>104.3</td>\n",
       "      <td>104.3</td>\n",
       "      <td>104.7</td>\n",
       "    </tr>\n",
       "    <tr>\n",
       "      <td>2</td>\n",
       "      <td>Urban</td>\n",
       "      <td>2013</td>\n",
       "      <td>March</td>\n",
       "      <td>113.9</td>\n",
       "      <td>111.4</td>\n",
       "      <td>113.2</td>\n",
       "      <td>104.3</td>\n",
       "      <td>102.7</td>\n",
       "      <td>104.9</td>\n",
       "      <td>103.8</td>\n",
       "      <td>...</td>\n",
       "      <td>100.4</td>\n",
       "      <td>106.0</td>\n",
       "      <td>105.7</td>\n",
       "      <td>105.2</td>\n",
       "      <td>105.5</td>\n",
       "      <td>103.5</td>\n",
       "      <td>103.8</td>\n",
       "      <td>104.2</td>\n",
       "      <td>104.9</td>\n",
       "      <td>105.0</td>\n",
       "    </tr>\n",
       "    <tr>\n",
       "      <td>3</td>\n",
       "      <td>Urban</td>\n",
       "      <td>2013</td>\n",
       "      <td>April</td>\n",
       "      <td>114.6</td>\n",
       "      <td>113.4</td>\n",
       "      <td>106.0</td>\n",
       "      <td>104.7</td>\n",
       "      <td>102.1</td>\n",
       "      <td>109.5</td>\n",
       "      <td>109.7</td>\n",
       "      <td>...</td>\n",
       "      <td>100.5</td>\n",
       "      <td>106.4</td>\n",
       "      <td>106.5</td>\n",
       "      <td>105.7</td>\n",
       "      <td>105.0</td>\n",
       "      <td>104.0</td>\n",
       "      <td>105.2</td>\n",
       "      <td>103.2</td>\n",
       "      <td>105.1</td>\n",
       "      <td>105.7</td>\n",
       "    </tr>\n",
       "    <tr>\n",
       "      <td>4</td>\n",
       "      <td>Urban</td>\n",
       "      <td>2013</td>\n",
       "      <td>May</td>\n",
       "      <td>115.4</td>\n",
       "      <td>114.2</td>\n",
       "      <td>102.7</td>\n",
       "      <td>105.5</td>\n",
       "      <td>101.5</td>\n",
       "      <td>110.6</td>\n",
       "      <td>123.7</td>\n",
       "      <td>...</td>\n",
       "      <td>100.5</td>\n",
       "      <td>107.2</td>\n",
       "      <td>107.1</td>\n",
       "      <td>106.2</td>\n",
       "      <td>103.9</td>\n",
       "      <td>104.6</td>\n",
       "      <td>105.7</td>\n",
       "      <td>102.6</td>\n",
       "      <td>104.9</td>\n",
       "      <td>106.6</td>\n",
       "    </tr>\n",
       "  </tbody>\n",
       "</table>\n",
       "<p>5 rows × 30 columns</p>\n",
       "</div>"
      ],
      "text/plain": [
       "  Sector  Year     Month  Cereals_and_products  Meat_and_fish    Egg  \\\n",
       "0  Urban  2013   January                 110.5          109.1  113.0   \n",
       "1  Urban  2013  February                 112.9          112.9  116.9   \n",
       "2  Urban  2013     March                 113.9          111.4  113.2   \n",
       "3  Urban  2013     April                 114.6          113.4  106.0   \n",
       "4  Urban  2013       May                 115.4          114.2  102.7   \n",
       "\n",
       "   Milk_and_products  Oils_and_fats  Fruits  Vegetables  ...  Housing  \\\n",
       "0              103.6          103.4   102.3       102.9  ...    100.3   \n",
       "1              104.0          103.5   103.1       104.9  ...    100.4   \n",
       "2              104.3          102.7   104.9       103.8  ...    100.4   \n",
       "3              104.7          102.1   109.5       109.7  ...    100.5   \n",
       "4              105.5          101.5   110.6       123.7  ...    100.5   \n",
       "\n",
       "   Fuel_and_light  Household_goods_ and_services  Health  \\\n",
       "0           105.4                          104.8   104.1   \n",
       "1           105.7                          105.2   104.7   \n",
       "2           106.0                          105.7   105.2   \n",
       "3           106.4                          106.5   105.7   \n",
       "4           107.2                          107.1   106.2   \n",
       "\n",
       "   Transport_and_ communication  Recreation_and _amusement  Education  \\\n",
       "0                         103.2                      102.9      103.5   \n",
       "1                         104.4                      103.3      103.7   \n",
       "2                         105.5                      103.5      103.8   \n",
       "3                         105.0                      104.0      105.2   \n",
       "4                         103.9                      104.6      105.7   \n",
       "\n",
       "   Personal_care_and_effects  Miscellaneous  General_index  \n",
       "0                      104.3          103.7          104.0  \n",
       "1                      104.3          104.3          104.7  \n",
       "2                      104.2          104.9          105.0  \n",
       "3                      103.2          105.1          105.7  \n",
       "4                      102.6          104.9          106.6  \n",
       "\n",
       "[5 rows x 30 columns]"
      ]
     },
     "execution_count": 3,
     "metadata": {},
     "output_type": "execute_result"
    }
   ],
   "source": [
    "df= pd.read_csv(\"urbancpi.csv\")\n",
    "df.head()"
   ]
  },
  {
   "cell_type": "markdown",
   "metadata": {},
   "source": [
    "displaying CPI data for URBAN SECTOR"
   ]
  },
  {
   "cell_type": "markdown",
   "metadata": {},
   "source": [
    "displaying CPI data for RURAL sector"
   ]
  },
  {
   "cell_type": "code",
   "execution_count": 4,
   "metadata": {},
   "outputs": [
    {
     "data": {
      "text/html": [
       "<div>\n",
       "<style scoped>\n",
       "    .dataframe tbody tr th:only-of-type {\n",
       "        vertical-align: middle;\n",
       "    }\n",
       "\n",
       "    .dataframe tbody tr th {\n",
       "        vertical-align: top;\n",
       "    }\n",
       "\n",
       "    .dataframe thead th {\n",
       "        text-align: right;\n",
       "    }\n",
       "</style>\n",
       "<table border=\"1\" class=\"dataframe\">\n",
       "  <thead>\n",
       "    <tr style=\"text-align: right;\">\n",
       "      <th></th>\n",
       "      <th>Sector</th>\n",
       "      <th>Year</th>\n",
       "      <th>Month</th>\n",
       "      <th>Cereals_and_products</th>\n",
       "      <th>Meat_and_fish</th>\n",
       "      <th>Egg</th>\n",
       "      <th>Milk_and_products</th>\n",
       "      <th>Oils_and_fats</th>\n",
       "      <th>Fruits</th>\n",
       "      <th>Vegetables</th>\n",
       "      <th>...</th>\n",
       "      <th>Housing</th>\n",
       "      <th>Fuel_and_light</th>\n",
       "      <th>Household_goods_ and_services</th>\n",
       "      <th>Health</th>\n",
       "      <th>Transport_and_ communication</th>\n",
       "      <th>Recreation_and _amusement</th>\n",
       "      <th>Education</th>\n",
       "      <th>Personal_care_and_effects</th>\n",
       "      <th>Miscellaneous</th>\n",
       "      <th>General_index</th>\n",
       "    </tr>\n",
       "  </thead>\n",
       "  <tbody>\n",
       "    <tr>\n",
       "      <td>0</td>\n",
       "      <td>Rural</td>\n",
       "      <td>2013</td>\n",
       "      <td>January</td>\n",
       "      <td>107.5</td>\n",
       "      <td>106.3</td>\n",
       "      <td>108.1</td>\n",
       "      <td>104.9</td>\n",
       "      <td>106.1</td>\n",
       "      <td>103.9</td>\n",
       "      <td>101.9</td>\n",
       "      <td>...</td>\n",
       "      <td>NaN</td>\n",
       "      <td>105.5</td>\n",
       "      <td>104.8</td>\n",
       "      <td>104.0</td>\n",
       "      <td>103.3</td>\n",
       "      <td>103.4</td>\n",
       "      <td>103.8</td>\n",
       "      <td>104.7</td>\n",
       "      <td>104.0</td>\n",
       "      <td>105.1</td>\n",
       "    </tr>\n",
       "    <tr>\n",
       "      <td>1</td>\n",
       "      <td>Rural</td>\n",
       "      <td>2013</td>\n",
       "      <td>February</td>\n",
       "      <td>109.2</td>\n",
       "      <td>108.7</td>\n",
       "      <td>110.2</td>\n",
       "      <td>105.4</td>\n",
       "      <td>106.7</td>\n",
       "      <td>104.0</td>\n",
       "      <td>102.4</td>\n",
       "      <td>...</td>\n",
       "      <td>NaN</td>\n",
       "      <td>106.2</td>\n",
       "      <td>105.2</td>\n",
       "      <td>104.4</td>\n",
       "      <td>103.9</td>\n",
       "      <td>104.0</td>\n",
       "      <td>104.1</td>\n",
       "      <td>104.6</td>\n",
       "      <td>104.4</td>\n",
       "      <td>105.8</td>\n",
       "    </tr>\n",
       "    <tr>\n",
       "      <td>2</td>\n",
       "      <td>Rural</td>\n",
       "      <td>2013</td>\n",
       "      <td>March</td>\n",
       "      <td>110.2</td>\n",
       "      <td>108.8</td>\n",
       "      <td>109.9</td>\n",
       "      <td>105.6</td>\n",
       "      <td>106.2</td>\n",
       "      <td>105.7</td>\n",
       "      <td>101.4</td>\n",
       "      <td>...</td>\n",
       "      <td>NaN</td>\n",
       "      <td>106.1</td>\n",
       "      <td>105.6</td>\n",
       "      <td>104.7</td>\n",
       "      <td>104.6</td>\n",
       "      <td>104.0</td>\n",
       "      <td>104.3</td>\n",
       "      <td>104.3</td>\n",
       "      <td>104.6</td>\n",
       "      <td>106.0</td>\n",
       "    </tr>\n",
       "    <tr>\n",
       "      <td>3</td>\n",
       "      <td>Rural</td>\n",
       "      <td>2013</td>\n",
       "      <td>April</td>\n",
       "      <td>110.2</td>\n",
       "      <td>109.5</td>\n",
       "      <td>106.9</td>\n",
       "      <td>106.3</td>\n",
       "      <td>105.7</td>\n",
       "      <td>108.3</td>\n",
       "      <td>103.4</td>\n",
       "      <td>...</td>\n",
       "      <td>NaN</td>\n",
       "      <td>106.5</td>\n",
       "      <td>106.1</td>\n",
       "      <td>105.1</td>\n",
       "      <td>104.4</td>\n",
       "      <td>104.5</td>\n",
       "      <td>104.8</td>\n",
       "      <td>102.7</td>\n",
       "      <td>104.6</td>\n",
       "      <td>106.4</td>\n",
       "    </tr>\n",
       "    <tr>\n",
       "      <td>4</td>\n",
       "      <td>Rural</td>\n",
       "      <td>2013</td>\n",
       "      <td>May</td>\n",
       "      <td>110.9</td>\n",
       "      <td>109.8</td>\n",
       "      <td>105.9</td>\n",
       "      <td>107.5</td>\n",
       "      <td>105.3</td>\n",
       "      <td>108.1</td>\n",
       "      <td>107.3</td>\n",
       "      <td>...</td>\n",
       "      <td>NaN</td>\n",
       "      <td>107.5</td>\n",
       "      <td>106.8</td>\n",
       "      <td>105.7</td>\n",
       "      <td>104.1</td>\n",
       "      <td>105.0</td>\n",
       "      <td>105.5</td>\n",
       "      <td>102.1</td>\n",
       "      <td>104.8</td>\n",
       "      <td>107.2</td>\n",
       "    </tr>\n",
       "  </tbody>\n",
       "</table>\n",
       "<p>5 rows × 30 columns</p>\n",
       "</div>"
      ],
      "text/plain": [
       "  Sector  Year     Month  Cereals_and_products  Meat_and_fish    Egg  \\\n",
       "0  Rural  2013   January                 107.5          106.3  108.1   \n",
       "1  Rural  2013  February                 109.2          108.7  110.2   \n",
       "2  Rural  2013     March                 110.2          108.8  109.9   \n",
       "3  Rural  2013     April                 110.2          109.5  106.9   \n",
       "4  Rural  2013       May                 110.9          109.8  105.9   \n",
       "\n",
       "   Milk_and_products  Oils_and_fats  Fruits  Vegetables  ...  Housing  \\\n",
       "0              104.9          106.1   103.9       101.9  ...      NaN   \n",
       "1              105.4          106.7   104.0       102.4  ...      NaN   \n",
       "2              105.6          106.2   105.7       101.4  ...      NaN   \n",
       "3              106.3          105.7   108.3       103.4  ...      NaN   \n",
       "4              107.5          105.3   108.1       107.3  ...      NaN   \n",
       "\n",
       "   Fuel_and_light  Household_goods_ and_services  Health  \\\n",
       "0           105.5                          104.8   104.0   \n",
       "1           106.2                          105.2   104.4   \n",
       "2           106.1                          105.6   104.7   \n",
       "3           106.5                          106.1   105.1   \n",
       "4           107.5                          106.8   105.7   \n",
       "\n",
       "   Transport_and_ communication  Recreation_and _amusement  Education  \\\n",
       "0                         103.3                      103.4      103.8   \n",
       "1                         103.9                      104.0      104.1   \n",
       "2                         104.6                      104.0      104.3   \n",
       "3                         104.4                      104.5      104.8   \n",
       "4                         104.1                      105.0      105.5   \n",
       "\n",
       "   Personal_care_and_effects  Miscellaneous  General_index  \n",
       "0                      104.7          104.0          105.1  \n",
       "1                      104.6          104.4          105.8  \n",
       "2                      104.3          104.6          106.0  \n",
       "3                      102.7          104.6          106.4  \n",
       "4                      102.1          104.8          107.2  \n",
       "\n",
       "[5 rows x 30 columns]"
      ]
     },
     "execution_count": 4,
     "metadata": {},
     "output_type": "execute_result"
    }
   ],
   "source": [
    "df1= pd.read_csv(\"ruralcpi1.csv\")\n",
    "df1.head()"
   ]
  },
  {
   "cell_type": "code",
   "execution_count": 5,
   "metadata": {},
   "outputs": [
    {
     "data": {
      "text/html": [
       "<div>\n",
       "<style scoped>\n",
       "    .dataframe tbody tr th:only-of-type {\n",
       "        vertical-align: middle;\n",
       "    }\n",
       "\n",
       "    .dataframe tbody tr th {\n",
       "        vertical-align: top;\n",
       "    }\n",
       "\n",
       "    .dataframe thead th {\n",
       "        text-align: right;\n",
       "    }\n",
       "</style>\n",
       "<table border=\"1\" class=\"dataframe\">\n",
       "  <thead>\n",
       "    <tr style=\"text-align: right;\">\n",
       "      <th></th>\n",
       "      <th>Sector</th>\n",
       "      <th>Year</th>\n",
       "      <th>Month</th>\n",
       "      <th>Cereals_and_products</th>\n",
       "      <th>Meat_and_fish</th>\n",
       "      <th>Egg</th>\n",
       "      <th>Milk_and_products</th>\n",
       "      <th>Oils_and_fats</th>\n",
       "      <th>Fruits</th>\n",
       "      <th>Vegetables</th>\n",
       "      <th>...</th>\n",
       "      <th>Housing</th>\n",
       "      <th>Fuel_and_light</th>\n",
       "      <th>Household_goods_ and_services</th>\n",
       "      <th>Health</th>\n",
       "      <th>Transport_and_ communication</th>\n",
       "      <th>Recreation_and _amusement</th>\n",
       "      <th>Education</th>\n",
       "      <th>Personal_care_and_effects</th>\n",
       "      <th>Miscellaneous</th>\n",
       "      <th>General_index</th>\n",
       "    </tr>\n",
       "  </thead>\n",
       "  <tbody>\n",
       "    <tr>\n",
       "      <td>0</td>\n",
       "      <td>Rural+Urban</td>\n",
       "      <td>2013</td>\n",
       "      <td>January</td>\n",
       "      <td>108.4</td>\n",
       "      <td>107.3</td>\n",
       "      <td>110.0</td>\n",
       "      <td>104.4</td>\n",
       "      <td>105.1</td>\n",
       "      <td>103.2</td>\n",
       "      <td>102.2</td>\n",
       "      <td>...</td>\n",
       "      <td>100.3</td>\n",
       "      <td>105.5</td>\n",
       "      <td>104.8</td>\n",
       "      <td>104.0</td>\n",
       "      <td>103.2</td>\n",
       "      <td>103.1</td>\n",
       "      <td>103.6</td>\n",
       "      <td>104.5</td>\n",
       "      <td>103.9</td>\n",
       "      <td>104.6</td>\n",
       "    </tr>\n",
       "    <tr>\n",
       "      <td>1</td>\n",
       "      <td>Rural+Urban</td>\n",
       "      <td>2013</td>\n",
       "      <td>February</td>\n",
       "      <td>110.4</td>\n",
       "      <td>110.2</td>\n",
       "      <td>112.8</td>\n",
       "      <td>104.9</td>\n",
       "      <td>105.5</td>\n",
       "      <td>103.6</td>\n",
       "      <td>103.2</td>\n",
       "      <td>...</td>\n",
       "      <td>100.4</td>\n",
       "      <td>106.0</td>\n",
       "      <td>105.2</td>\n",
       "      <td>104.5</td>\n",
       "      <td>104.2</td>\n",
       "      <td>103.6</td>\n",
       "      <td>103.9</td>\n",
       "      <td>104.5</td>\n",
       "      <td>104.4</td>\n",
       "      <td>105.3</td>\n",
       "    </tr>\n",
       "    <tr>\n",
       "      <td>2</td>\n",
       "      <td>Rural+Urban</td>\n",
       "      <td>2013</td>\n",
       "      <td>March</td>\n",
       "      <td>111.4</td>\n",
       "      <td>109.7</td>\n",
       "      <td>111.2</td>\n",
       "      <td>105.1</td>\n",
       "      <td>104.9</td>\n",
       "      <td>105.3</td>\n",
       "      <td>102.2</td>\n",
       "      <td>...</td>\n",
       "      <td>100.4</td>\n",
       "      <td>106.1</td>\n",
       "      <td>105.6</td>\n",
       "      <td>104.9</td>\n",
       "      <td>105.1</td>\n",
       "      <td>103.7</td>\n",
       "      <td>104.0</td>\n",
       "      <td>104.3</td>\n",
       "      <td>104.7</td>\n",
       "      <td>105.5</td>\n",
       "    </tr>\n",
       "    <tr>\n",
       "      <td>3</td>\n",
       "      <td>Rural+Urban</td>\n",
       "      <td>2013</td>\n",
       "      <td>April</td>\n",
       "      <td>111.6</td>\n",
       "      <td>110.9</td>\n",
       "      <td>106.6</td>\n",
       "      <td>105.7</td>\n",
       "      <td>104.4</td>\n",
       "      <td>108.9</td>\n",
       "      <td>105.5</td>\n",
       "      <td>...</td>\n",
       "      <td>100.5</td>\n",
       "      <td>106.5</td>\n",
       "      <td>106.3</td>\n",
       "      <td>105.3</td>\n",
       "      <td>104.7</td>\n",
       "      <td>104.2</td>\n",
       "      <td>105.0</td>\n",
       "      <td>102.9</td>\n",
       "      <td>104.8</td>\n",
       "      <td>106.1</td>\n",
       "    </tr>\n",
       "    <tr>\n",
       "      <td>4</td>\n",
       "      <td>Rural+Urban</td>\n",
       "      <td>2013</td>\n",
       "      <td>May</td>\n",
       "      <td>112.3</td>\n",
       "      <td>111.3</td>\n",
       "      <td>104.7</td>\n",
       "      <td>106.8</td>\n",
       "      <td>103.9</td>\n",
       "      <td>109.3</td>\n",
       "      <td>112.9</td>\n",
       "      <td>...</td>\n",
       "      <td>100.5</td>\n",
       "      <td>107.4</td>\n",
       "      <td>106.9</td>\n",
       "      <td>105.9</td>\n",
       "      <td>104.0</td>\n",
       "      <td>104.8</td>\n",
       "      <td>105.6</td>\n",
       "      <td>102.3</td>\n",
       "      <td>104.8</td>\n",
       "      <td>106.9</td>\n",
       "    </tr>\n",
       "  </tbody>\n",
       "</table>\n",
       "<p>5 rows × 30 columns</p>\n",
       "</div>"
      ],
      "text/plain": [
       "        Sector  Year     Month  Cereals_and_products  Meat_and_fish    Egg  \\\n",
       "0  Rural+Urban  2013   January                 108.4          107.3  110.0   \n",
       "1  Rural+Urban  2013  February                 110.4          110.2  112.8   \n",
       "2  Rural+Urban  2013     March                 111.4          109.7  111.2   \n",
       "3  Rural+Urban  2013     April                 111.6          110.9  106.6   \n",
       "4  Rural+Urban  2013       May                 112.3          111.3  104.7   \n",
       "\n",
       "   Milk_and_products  Oils_and_fats  Fruits  Vegetables  ...  Housing  \\\n",
       "0              104.4          105.1   103.2       102.2  ...    100.3   \n",
       "1              104.9          105.5   103.6       103.2  ...    100.4   \n",
       "2              105.1          104.9   105.3       102.2  ...    100.4   \n",
       "3              105.7          104.4   108.9       105.5  ...    100.5   \n",
       "4              106.8          103.9   109.3       112.9  ...    100.5   \n",
       "\n",
       "   Fuel_and_light  Household_goods_ and_services  Health  \\\n",
       "0           105.5                          104.8   104.0   \n",
       "1           106.0                          105.2   104.5   \n",
       "2           106.1                          105.6   104.9   \n",
       "3           106.5                          106.3   105.3   \n",
       "4           107.4                          106.9   105.9   \n",
       "\n",
       "   Transport_and_ communication  Recreation_and _amusement  Education  \\\n",
       "0                         103.2                      103.1      103.6   \n",
       "1                         104.2                      103.6      103.9   \n",
       "2                         105.1                      103.7      104.0   \n",
       "3                         104.7                      104.2      105.0   \n",
       "4                         104.0                      104.8      105.6   \n",
       "\n",
       "   Personal_care_and_effects  Miscellaneous  General_index  \n",
       "0                      104.5          103.9          104.6  \n",
       "1                      104.5          104.4          105.3  \n",
       "2                      104.3          104.7          105.5  \n",
       "3                      102.9          104.8          106.1  \n",
       "4                      102.3          104.8          106.9  \n",
       "\n",
       "[5 rows x 30 columns]"
      ]
     },
     "execution_count": 5,
     "metadata": {},
     "output_type": "execute_result"
    }
   ],
   "source": [
    "df2= pd.read_csv(\"urbanruralcpi.csv\")\n",
    "df2.head()"
   ]
  },
  {
   "cell_type": "code",
   "execution_count": 6,
   "metadata": {},
   "outputs": [],
   "source": [
    "from sklearn.preprocessing import LabelEncoder\n",
    "from sklearn.model_selection import train_test_split\n",
    "import math\n",
    "import pandas as pd\n",
    "from sklearn.utils import shuffle\n",
    "import matplotlib.pyplot as plt\n",
    "from sklearn.metrics import accuracy_score\n",
    "from sklearn.metrics import mean_squared_error\n",
    "from sklearn.metrics import mean_absolute_error\n",
    "from sklearn.metrics import r2_score\n",
    "from sklearn.linear_model import Ridge\n",
    "from sklearn.linear_model import LinearRegression\n",
    "from sklearn import ensemble\n",
    "from sklearn.ensemble import RandomForestRegressor\n",
    "from sklearn.datasets import make_regression\n",
    "from sklearn import linear_model"
   ]
  },
  {
   "cell_type": "code",
   "execution_count": 7,
   "metadata": {},
   "outputs": [],
   "source": [
    "# label encoding , i.e. converting string data to numerical  data \n",
    "\n",
    "le_sector=LabelEncoder()\n",
    "le_year=LabelEncoder()\n",
    "le_month=LabelEncoder()\n",
    "inputs=df\n",
    "\n",
    "inputs1=df1\n",
    "\n",
    "inputs2=df2\n",
    "\n",
    "inputs['sector_n']=le_sector.fit_transform(inputs['Sector'])\n",
    "inputs['year_n']=le_sector.fit_transform(inputs['Year'])\n",
    "inputs['month_n']=le_sector.fit_transform(inputs['Month'])\n",
    "inputs_n=inputs.drop(['Sector','Year','Month'],axis='columns')\n",
    "\n",
    "inputs1['sector_n']=le_sector.fit_transform(inputs1['Sector'])\n",
    "inputs1['year_n']=le_sector.fit_transform(inputs1['Year'])\n",
    "inputs1['month_n']=le_sector.fit_transform(inputs1['Month'])\n",
    "inputs_n1=inputs1.drop(['Sector','Year','Month'],axis='columns')\n",
    "\n",
    "inputs2['sector_n']=le_sector.fit_transform(inputs2['Sector'])\n",
    "inputs2['year_n']=le_sector.fit_transform(inputs2['Year'])\n",
    "inputs2['month_n']=le_sector.fit_transform(inputs2['Month'])\n",
    "inputs_n2=inputs2.drop(['Sector','Year','Month'],axis='columns')"
   ]
  },
  {
   "cell_type": "code",
   "execution_count": 8,
   "metadata": {},
   "outputs": [],
   "source": [
    "inputs_n['sector_n']=inputs_n['sector_n'].astype(float)\n",
    "inputs_n['General_index']=inputs_n['General_index'].astype(float)\n",
    "inputs_n['year_n']=inputs_n['year_n'].astype(float)\n",
    "inputs_n['month_n']=inputs_n['month_n'].astype(float)\n",
    "#print(inputs_n.head())\n",
    "\n",
    "inputs_n1['sector_n']=inputs_n['sector_n'].astype(float)\n",
    "inputs_n1['General_index']=inputs_n['General_index'].astype(float)\n",
    "inputs_n1['year_n']=inputs_n['year_n'].astype(float)\n",
    "inputs_n1['month_n']=inputs_n['month_n'].astype(float)\n",
    "#print(inputs_n1.head())\n",
    "\n",
    "inputs_n2['sector_n']=inputs_n2['sector_n'].astype(float)\n",
    "inputs_n2['General_index']=inputs_n2['General_index'].astype(float)\n",
    "inputs_n2['year_n']=inputs_n2['year_n'].astype(float)\n",
    "inputs_n2['month_n']=inputs_n2['month_n'].astype(float)\n",
    "#print(inputs_n2.head())"
   ]
  },
  {
   "cell_type": "code",
   "execution_count": 9,
   "metadata": {},
   "outputs": [],
   "source": [
    "data=inputs_n.values"
   ]
  },
  {
   "cell_type": "markdown",
   "metadata": {},
   "source": [
    "dividing the dataa into training and testing set"
   ]
  },
  {
   "cell_type": "code",
   "execution_count": 10,
   "metadata": {},
   "outputs": [],
   "source": [
    "# splitting of Datasets into training and testing data\n",
    "X_train, X_test, y_train, y_test = train_test_split(inputs[['year_n','month_n']],inputs_n.General_index,test_size=0.25)\n",
    "\n",
    "X_train1, X_test1, y_train1, y_test1 = train_test_split(inputs1[['year_n','month_n']],inputs_n1.General_index,test_size=0.25)\n",
    "\n",
    "X_train2, X_test2, y_train2, y_test2 = train_test_split(inputs2[['year_n','month_n']],inputs_n2.General_index,test_size=0.25)\n",
    "#print(X_train)\n",
    "#print(X_test)\n",
    "#print(y_train)\n",
    "#print(y_test)\n"
   ]
  },
  {
   "cell_type": "code",
   "execution_count": 11,
   "metadata": {},
   "outputs": [
    {
     "name": "stdout",
     "output_type": "stream",
     "text": [
      "(48, 2) (48,) (16, 2) (16,)\n"
     ]
    }
   ],
   "source": [
    "print(X_train.shape,y_train.shape,X_test.shape,y_test.shape)"
   ]
  },
  {
   "cell_type": "code",
   "execution_count": 12,
   "metadata": {},
   "outputs": [
    {
     "data": {
      "text/html": [
       "<div>\n",
       "<style scoped>\n",
       "    .dataframe tbody tr th:only-of-type {\n",
       "        vertical-align: middle;\n",
       "    }\n",
       "\n",
       "    .dataframe tbody tr th {\n",
       "        vertical-align: top;\n",
       "    }\n",
       "\n",
       "    .dataframe thead th {\n",
       "        text-align: right;\n",
       "    }\n",
       "</style>\n",
       "<table border=\"1\" class=\"dataframe\">\n",
       "  <thead>\n",
       "    <tr style=\"text-align: right;\">\n",
       "      <th></th>\n",
       "      <th>year_n</th>\n",
       "      <th>month_n</th>\n",
       "    </tr>\n",
       "  </thead>\n",
       "  <tbody>\n",
       "    <tr>\n",
       "      <td>59</td>\n",
       "      <td>4</td>\n",
       "      <td>2</td>\n",
       "    </tr>\n",
       "    <tr>\n",
       "      <td>48</td>\n",
       "      <td>4</td>\n",
       "      <td>4</td>\n",
       "    </tr>\n",
       "    <tr>\n",
       "      <td>11</td>\n",
       "      <td>0</td>\n",
       "      <td>2</td>\n",
       "    </tr>\n",
       "    <tr>\n",
       "      <td>3</td>\n",
       "      <td>0</td>\n",
       "      <td>0</td>\n",
       "    </tr>\n",
       "    <tr>\n",
       "      <td>38</td>\n",
       "      <td>3</td>\n",
       "      <td>7</td>\n",
       "    </tr>\n",
       "    <tr>\n",
       "      <td>16</td>\n",
       "      <td>1</td>\n",
       "      <td>8</td>\n",
       "    </tr>\n",
       "    <tr>\n",
       "      <td>55</td>\n",
       "      <td>4</td>\n",
       "      <td>1</td>\n",
       "    </tr>\n",
       "    <tr>\n",
       "      <td>57</td>\n",
       "      <td>4</td>\n",
       "      <td>10</td>\n",
       "    </tr>\n",
       "    <tr>\n",
       "      <td>22</td>\n",
       "      <td>1</td>\n",
       "      <td>9</td>\n",
       "    </tr>\n",
       "    <tr>\n",
       "      <td>41</td>\n",
       "      <td>3</td>\n",
       "      <td>6</td>\n",
       "    </tr>\n",
       "    <tr>\n",
       "      <td>15</td>\n",
       "      <td>1</td>\n",
       "      <td>0</td>\n",
       "    </tr>\n",
       "    <tr>\n",
       "      <td>12</td>\n",
       "      <td>1</td>\n",
       "      <td>4</td>\n",
       "    </tr>\n",
       "    <tr>\n",
       "      <td>50</td>\n",
       "      <td>4</td>\n",
       "      <td>7</td>\n",
       "    </tr>\n",
       "    <tr>\n",
       "      <td>23</td>\n",
       "      <td>1</td>\n",
       "      <td>2</td>\n",
       "    </tr>\n",
       "    <tr>\n",
       "      <td>51</td>\n",
       "      <td>4</td>\n",
       "      <td>0</td>\n",
       "    </tr>\n",
       "    <tr>\n",
       "      <td>34</td>\n",
       "      <td>2</td>\n",
       "      <td>9</td>\n",
       "    </tr>\n",
       "    <tr>\n",
       "      <td>60</td>\n",
       "      <td>5</td>\n",
       "      <td>4</td>\n",
       "    </tr>\n",
       "    <tr>\n",
       "      <td>37</td>\n",
       "      <td>3</td>\n",
       "      <td>3</td>\n",
       "    </tr>\n",
       "    <tr>\n",
       "      <td>61</td>\n",
       "      <td>5</td>\n",
       "      <td>3</td>\n",
       "    </tr>\n",
       "    <tr>\n",
       "      <td>49</td>\n",
       "      <td>4</td>\n",
       "      <td>3</td>\n",
       "    </tr>\n",
       "    <tr>\n",
       "      <td>45</td>\n",
       "      <td>3</td>\n",
       "      <td>10</td>\n",
       "    </tr>\n",
       "    <tr>\n",
       "      <td>63</td>\n",
       "      <td>5</td>\n",
       "      <td>0</td>\n",
       "    </tr>\n",
       "    <tr>\n",
       "      <td>6</td>\n",
       "      <td>0</td>\n",
       "      <td>5</td>\n",
       "    </tr>\n",
       "    <tr>\n",
       "      <td>30</td>\n",
       "      <td>2</td>\n",
       "      <td>5</td>\n",
       "    </tr>\n",
       "    <tr>\n",
       "      <td>10</td>\n",
       "      <td>0</td>\n",
       "      <td>9</td>\n",
       "    </tr>\n",
       "    <tr>\n",
       "      <td>0</td>\n",
       "      <td>0</td>\n",
       "      <td>4</td>\n",
       "    </tr>\n",
       "    <tr>\n",
       "      <td>46</td>\n",
       "      <td>3</td>\n",
       "      <td>9</td>\n",
       "    </tr>\n",
       "    <tr>\n",
       "      <td>47</td>\n",
       "      <td>3</td>\n",
       "      <td>2</td>\n",
       "    </tr>\n",
       "    <tr>\n",
       "      <td>35</td>\n",
       "      <td>2</td>\n",
       "      <td>2</td>\n",
       "    </tr>\n",
       "    <tr>\n",
       "      <td>29</td>\n",
       "      <td>2</td>\n",
       "      <td>6</td>\n",
       "    </tr>\n",
       "    <tr>\n",
       "      <td>13</td>\n",
       "      <td>1</td>\n",
       "      <td>3</td>\n",
       "    </tr>\n",
       "    <tr>\n",
       "      <td>31</td>\n",
       "      <td>2</td>\n",
       "      <td>1</td>\n",
       "    </tr>\n",
       "    <tr>\n",
       "      <td>9</td>\n",
       "      <td>0</td>\n",
       "      <td>10</td>\n",
       "    </tr>\n",
       "    <tr>\n",
       "      <td>52</td>\n",
       "      <td>4</td>\n",
       "      <td>8</td>\n",
       "    </tr>\n",
       "    <tr>\n",
       "      <td>2</td>\n",
       "      <td>0</td>\n",
       "      <td>7</td>\n",
       "    </tr>\n",
       "    <tr>\n",
       "      <td>25</td>\n",
       "      <td>2</td>\n",
       "      <td>3</td>\n",
       "    </tr>\n",
       "    <tr>\n",
       "      <td>42</td>\n",
       "      <td>3</td>\n",
       "      <td>5</td>\n",
       "    </tr>\n",
       "    <tr>\n",
       "      <td>44</td>\n",
       "      <td>3</td>\n",
       "      <td>11</td>\n",
       "    </tr>\n",
       "    <tr>\n",
       "      <td>18</td>\n",
       "      <td>1</td>\n",
       "      <td>5</td>\n",
       "    </tr>\n",
       "    <tr>\n",
       "      <td>28</td>\n",
       "      <td>2</td>\n",
       "      <td>8</td>\n",
       "    </tr>\n",
       "    <tr>\n",
       "      <td>1</td>\n",
       "      <td>0</td>\n",
       "      <td>3</td>\n",
       "    </tr>\n",
       "    <tr>\n",
       "      <td>17</td>\n",
       "      <td>1</td>\n",
       "      <td>6</td>\n",
       "    </tr>\n",
       "    <tr>\n",
       "      <td>58</td>\n",
       "      <td>4</td>\n",
       "      <td>9</td>\n",
       "    </tr>\n",
       "    <tr>\n",
       "      <td>56</td>\n",
       "      <td>4</td>\n",
       "      <td>11</td>\n",
       "    </tr>\n",
       "    <tr>\n",
       "      <td>19</td>\n",
       "      <td>1</td>\n",
       "      <td>1</td>\n",
       "    </tr>\n",
       "    <tr>\n",
       "      <td>62</td>\n",
       "      <td>5</td>\n",
       "      <td>7</td>\n",
       "    </tr>\n",
       "    <tr>\n",
       "      <td>20</td>\n",
       "      <td>1</td>\n",
       "      <td>11</td>\n",
       "    </tr>\n",
       "    <tr>\n",
       "      <td>39</td>\n",
       "      <td>3</td>\n",
       "      <td>0</td>\n",
       "    </tr>\n",
       "  </tbody>\n",
       "</table>\n",
       "</div>"
      ],
      "text/plain": [
       "    year_n  month_n\n",
       "59       4        2\n",
       "48       4        4\n",
       "11       0        2\n",
       "3        0        0\n",
       "38       3        7\n",
       "16       1        8\n",
       "55       4        1\n",
       "57       4       10\n",
       "22       1        9\n",
       "41       3        6\n",
       "15       1        0\n",
       "12       1        4\n",
       "50       4        7\n",
       "23       1        2\n",
       "51       4        0\n",
       "34       2        9\n",
       "60       5        4\n",
       "37       3        3\n",
       "61       5        3\n",
       "49       4        3\n",
       "45       3       10\n",
       "63       5        0\n",
       "6        0        5\n",
       "30       2        5\n",
       "10       0        9\n",
       "0        0        4\n",
       "46       3        9\n",
       "47       3        2\n",
       "35       2        2\n",
       "29       2        6\n",
       "13       1        3\n",
       "31       2        1\n",
       "9        0       10\n",
       "52       4        8\n",
       "2        0        7\n",
       "25       2        3\n",
       "42       3        5\n",
       "44       3       11\n",
       "18       1        5\n",
       "28       2        8\n",
       "1        0        3\n",
       "17       1        6\n",
       "58       4        9\n",
       "56       4       11\n",
       "19       1        1\n",
       "62       5        7\n",
       "20       1       11\n",
       "39       3        0"
      ]
     },
     "execution_count": 12,
     "metadata": {},
     "output_type": "execute_result"
    }
   ],
   "source": [
    "X_train"
   ]
  },
  {
   "cell_type": "code",
   "execution_count": 13,
   "metadata": {},
   "outputs": [
    {
     "data": {
      "text/plain": [
       "59    134.1\n",
       "48    127.8\n",
       "11    113.3\n",
       "3     105.7\n",
       "38    123.8\n",
       "16    115.6\n",
       "55    132.7\n",
       "57    133.5\n",
       "22    119.0\n",
       "41    128.1\n",
       "15    114.7\n",
       "12    112.9\n",
       "50    128.7\n",
       "23    118.4\n",
       "51    129.1\n",
       "34    124.6\n",
       "60    134.1\n",
       "37    123.8\n",
       "61    134.0\n",
       "49    128.2\n",
       "45    128.6\n",
       "63    134.8\n",
       "6     111.4\n",
       "30    122.4\n",
       "10    115.0\n",
       "0     104.0\n",
       "46    128.5\n",
       "47    127.6\n",
       "35    124.0\n",
       "29    121.7\n",
       "13    113.1\n",
       "31    123.2\n",
       "9     114.0\n",
       "52    129.3\n",
       "2     105.0\n",
       "25    118.7\n",
       "42    129.0\n",
       "44    128.0\n",
       "18    118.9\n",
       "28    120.7\n",
       "1     104.7\n",
       "17    116.4\n",
       "58    134.8\n",
       "56    132.4\n",
       "19    119.9\n",
       "62    134.0\n",
       "20    119.2\n",
       "39    125.3\n",
       "Name: General_index, dtype: float64"
      ]
     },
     "execution_count": 13,
     "metadata": {},
     "output_type": "execute_result"
    }
   ],
   "source": [
    "y_train"
   ]
  },
  {
   "cell_type": "markdown",
   "metadata": {},
   "source": [
    "USING RIDGE REGRESSION:"
   ]
  },
  {
   "cell_type": "code",
   "execution_count": 14,
   "metadata": {},
   "outputs": [],
   "source": [
    "#ridge regresssion \n",
    "\n",
    "clf = Ridge(alpha=1.0)\n",
    "clf.fit(X_train, y_train) \n",
    "predictions= clf.predict(X_test)\n",
    "\n",
    "clf1 = Ridge(alpha=1.0)\n",
    "clf1.fit(X_train1, y_train1) \n",
    "predictions1= clf1.predict(X_test1)\n",
    "\n",
    "clf2 = Ridge(alpha=1.0)\n",
    "clf2.fit(X_train2, y_train2) \n",
    "predictions2= clf2.predict(X_test1)"
   ]
  },
  {
   "cell_type": "code",
   "execution_count": 15,
   "metadata": {},
   "outputs": [
    {
     "name": "stdout",
     "output_type": "stream",
     "text": [
      "[124.96223307 111.24502343 117.38981166 112.63242197 122.42468105\n",
      " 111.79998285 116.55737253 131.38450101 126.90459103 121.59224193\n",
      " 109.85762488 119.64988397 120.7598028  125.7946722  122.70216076\n",
      " 131.1070213 ]\n",
      "[121.60701035 120.19746165 113.02923555 129.60049336 111.49920428\n",
      " 117.25788167 130.30526772 114.79117144 126.66091339 125.60375186\n",
      " 134.6543964  132.0672036  118.78791294 113.38162273 107.97533252\n",
      " 108.3277197 ]\n",
      "[123.64011457 122.64307038 115.97875242 132.48205161 113.30261124\n",
      " 118.96988501 132.98057371 117.22505766 128.80886624 128.06108309\n",
      " 137.65080327 134.22687895 121.64602618 116.22801347 110.81000075\n",
      " 111.0592618 ]\n"
     ]
    }
   ],
   "source": [
    "print(predictions)\n",
    "print(predictions1)\n",
    "print(predictions2)"
   ]
  },
  {
   "cell_type": "code",
   "execution_count": 21,
   "metadata": {},
   "outputs": [
    {
     "data": {
      "text/plain": [
       "33    124.2\n",
       "29    121.7\n",
       "40    126.6\n",
       "7     112.7\n",
       "22    119.0\n",
       "17    116.4\n",
       "44    128.0\n",
       "62    134.0\n",
       "15    114.7\n",
       "23    118.4\n",
       "52    129.3\n",
       "36    124.2\n",
       "43    128.4\n",
       "38    123.8\n",
       "18    118.9\n",
       "42    129.0\n",
       "Name: General_index, dtype: float64"
      ]
     },
     "execution_count": 21,
     "metadata": {},
     "output_type": "execute_result"
    }
   ],
   "source": [
    "y_test"
   ]
  },
  {
   "cell_type": "code",
   "execution_count": 22,
   "metadata": {},
   "outputs": [
    {
     "name": "stdout",
     "output_type": "stream",
     "text": [
      "0.9110761749809548\n",
      "0.7966559953112297\n"
     ]
    }
   ],
   "source": [
    "print(clf.score(X_train,y_train))\n",
    "print(clf.score(X_test,y_test))"
   ]
  },
  {
   "cell_type": "code",
   "execution_count": 23,
   "metadata": {},
   "outputs": [
    {
     "name": "stdout",
     "output_type": "stream",
     "text": [
      "0.9006443992971778\n",
      "0.906643902847664\n"
     ]
    }
   ],
   "source": [
    "print(clf1.score(X_train1,y_train1))\n",
    "print(clf1.score(X_test1,y_test1))"
   ]
  },
  {
   "cell_type": "code",
   "execution_count": 24,
   "metadata": {},
   "outputs": [
    {
     "name": "stdout",
     "output_type": "stream",
     "text": [
      "0.9021486218864769\n",
      "0.9102480480669781\n"
     ]
    }
   ],
   "source": [
    "print(clf2.score(X_train2,y_train2))\n",
    "print(clf2.score(X_test2,y_test2))"
   ]
  },
  {
   "cell_type": "code",
   "execution_count": 16,
   "metadata": {},
   "outputs": [],
   "source": [
    "\n",
    "scores = pd.DataFrame()\n",
    "scores = scores.fillna(0)\n",
    "scores[0:0]='Ridge'"
   ]
  },
  {
   "cell_type": "code",
   "execution_count": 17,
   "metadata": {},
   "outputs": [
    {
     "name": "stdout",
     "output_type": "stream",
     "text": [
      "MSE: 5.0728\n",
      "MAE: 1.8508\n",
      "R^2: 0.9019\n",
      "MSE1: 11.6104\n",
      "MAE1: 2.9763\n",
      "R^2_1: 0.7495\n",
      "MSE2: 12.4003\n",
      "MAE2: 3.1204\n",
      "R^2_2: 0.8914\n"
     ]
    }
   ],
   "source": [
    "print(\"----------For Ridge Regression----------\")\n",
    "\n",
    "mse = mean_squared_error(y_test, clf.predict(X_test))\n",
    "print(\"MSE: %.4f\" % mse)\n",
    "mae = mean_absolute_error(y_test, clf.predict(X_test))\n",
    "print(\"MAE: %.4f\" % mae)\n",
    "r2 = r2_score(y_test, clf.predict(X_test))\n",
    "print(\"R^2: %.4f\" % r2)\n",
    "\n",
    "mse = mean_squared_error(y_test1, clf1.predict(X_test1))\n",
    "print(\"MSE1: %.4f\" % mse)\n",
    "mae = mean_absolute_error(y_test1, clf1.predict(X_test1))\n",
    "print(\"MAE1: %.4f\" % mae)\n",
    "r2 = r2_score(y_test1, clf1.predict(X_test1))\n",
    "print(\"R^2_1: %.4f\" % r2)\n",
    "\n",
    "mse = mean_squared_error(y_test2, clf2.predict(X_test2))\n",
    "print(\"MSE2: %.4f\" % mse)\n",
    "mae = mean_absolute_error(y_test2, clf2.predict(X_test2))\n",
    "print(\"MAE2: %.4f\" % mae)\n",
    "r2 = r2_score(y_test2, clf2.predict(X_test2))\n",
    "print(\"R^2_2: %.4f\" % r2)\n",
    "\n"
   ]
  },
  {
   "cell_type": "code",
   "execution_count": 18,
   "metadata": {},
   "outputs": [
    {
     "name": "stdout",
     "output_type": "stream",
     "text": [
      "[124.98830976 111.15031167 117.33843516 112.54042119 122.41447103\n",
      " 111.70635548 116.50436945 131.45445515 126.93446309 121.58040532\n",
      " 109.76020215 119.63425199 120.74633961 125.82237548 122.69249293\n",
      " 131.17643325]\n",
      "[121.60176793 120.18495462 112.96017116 129.67567498 111.40264092\n",
      " 117.21061108 130.38408163 114.73118779 126.70133143 125.63872145\n",
      " 134.77523848 132.15509826 118.76814132 113.31437449 107.86060766\n",
      " 108.21481098]\n",
      "[111.44408525 112.69136507 132.57128545 124.377517   133.31965334\n",
      " 117.91080113 117.4118892  118.16025709 110.4462614  128.59912921\n",
      " 112.94082103 129.59695306 139.53691325 133.07019738 132.82074142\n",
      " 118.65916902]\n"
     ]
    }
   ],
   "source": [
    "#Linear regression\n",
    "from sklearn.linear_model import LinearRegression\n",
    "reg = LinearRegression()\n",
    "reg.fit(X_train, y_train)\n",
    "pred=reg.predict(X_test)\n",
    "\n",
    "reg1 = LinearRegression()\n",
    "reg1.fit(X_train1, y_train1)\n",
    "pred1=reg1.predict(X_test1)\n",
    "\n",
    "reg2 = LinearRegression()\n",
    "reg2.fit(X_train2, y_train2)\n",
    "pred2=reg2.predict(X_test2)\n",
    "print(pred)\n",
    "print(pred1)\n",
    "print(pred2)"
   ]
  },
  {
   "cell_type": "code",
   "execution_count": 19,
   "metadata": {},
   "outputs": [
    {
     "name": "stdout",
     "output_type": "stream",
     "text": [
      "0.8976852583246362\n",
      "0.902794430313246\n"
     ]
    }
   ],
   "source": [
    "print(reg.score(X_train,y_train))\n",
    "print(reg.score(X_test,y_test))\n"
   ]
  },
  {
   "cell_type": "code",
   "execution_count": 20,
   "metadata": {},
   "outputs": [
    {
     "name": "stdout",
     "output_type": "stream",
     "text": [
      "0.9214643455260781\n",
      "0.7429038960845543\n"
     ]
    }
   ],
   "source": [
    "print(reg1.score(X_train1,y_train1))\n",
    "print(reg1.score(X_test1,y_test1))"
   ]
  },
  {
   "cell_type": "code",
   "execution_count": 21,
   "metadata": {},
   "outputs": [
    {
     "name": "stdout",
     "output_type": "stream",
     "text": [
      "0.8478604669501131\n",
      "0.8706625466363385\n"
     ]
    }
   ],
   "source": [
    "print(reg2.score(X_train1,y_train1))\n",
    "print(reg2.score(X_test1,y_test1))"
   ]
  },
  {
   "cell_type": "code",
   "execution_count": 22,
   "metadata": {},
   "outputs": [
    {
     "name": "stdout",
     "output_type": "stream",
     "text": [
      "MSE: 5.0284\n",
      "MAE: 1.8534\n",
      "R^2: 0.9028\n",
      "MSE1: 11.9171\n",
      "MAE1: 3.0126\n",
      "R^2_1: 0.7429\n",
      "MSE2: 12.1971\n",
      "MAE2: 3.1078\n",
      "R^2_2: 0.8932\n"
     ]
    }
   ],
   "source": [
    "print(\"----------For Linear Regression----------\")\n",
    "\n",
    "mse = mean_squared_error(y_test, reg.predict(X_test))\n",
    "print(\"MSE: %.4f\" % mse)\n",
    "mae = mean_absolute_error(y_test, reg.predict(X_test))\n",
    "print(\"MAE: %.4f\" % mae)\n",
    "r2 = r2_score(y_test, reg.predict(X_test))\n",
    "print(\"R^2: %.4f\" % r2)\n",
    "\n",
    "mse = mean_squared_error(y_test1, reg1.predict(X_test1))\n",
    "print(\"MSE1: %.4f\" % mse)\n",
    "mae = mean_absolute_error(y_test1, reg1.predict(X_test1))\n",
    "print(\"MAE1: %.4f\" % mae)\n",
    "r2 = r2_score(y_test1, reg1.predict(X_test1))\n",
    "print(\"R^2_1: %.4f\" % r2)\n",
    "\n",
    "mse = mean_squared_error(y_test2, reg2.predict(X_test2))\n",
    "print(\"MSE2: %.4f\" % mse)\n",
    "mae = mean_absolute_error(y_test2, reg2.predict(X_test2))\n",
    "print(\"MAE2: %.4f\" % mae)\n",
    "r2 = r2_score(y_test2, reg2.predict(X_test2))\n",
    "print(\"R^2_2: %.4f\" % r2)"
   ]
  },
  {
   "cell_type": "code",
   "execution_count": 23,
   "metadata": {},
   "outputs": [
    {
     "name": "stdout",
     "output_type": "stream",
     "text": [
      "for rural:\n",
      "MSE: 2.0064\n",
      "MAE: 1.1423\n",
      "R^2: 0.9612\n",
      "for urban:\n",
      "MSE: 10.9917\n",
      "MAE: 2.5443\n",
      "R^2: 0.9852\n",
      "for rural+urban:\n",
      "MSE: 8.7365\n",
      "MAE: 2.2784\n",
      "R^2: 0.9235\n"
     ]
    }
   ],
   "source": [
    "#gradient boosting regression\n",
    "\n",
    "params = {'n_estimators': 500, 'max_depth': 4, 'min_samples_split': 2,\n",
    "          'learning_rate': 0.01, 'loss': 'ls'}\n",
    "clfg = ensemble.GradientBoostingRegressor(**params)\n",
    "clfg.fit(X_train, y_train)\n",
    "predg=clfg.predict(X_test)\n",
    "clfg1 = ensemble.GradientBoostingRegressor(**params)\n",
    "clfg1.fit(X_train1, y_train1)\n",
    "predg1=clfg1.predict(X_test1)\n",
    "clfg2 = ensemble.GradientBoostingRegressor(**params)\n",
    "clfg2.fit(X_train1, y_train1)\n",
    "predg2=clfg2.predict(X_test1)\n",
    "\n",
    "print(\"----------For Gradient Boosting Regression----------\")\n",
    "\n",
    "print('for rural:')\n",
    "mse = mean_squared_error(y_test, clfg.predict(X_test))\n",
    "print(\"MSE: %.4f\" % mse)\n",
    "mae = mean_absolute_error(y_test, clfg.predict(X_test))\n",
    "print(\"MAE: %.4f\" % mae)\n",
    "r2 = r2_score(y_test, clfg.predict(X_test))\n",
    "print(\"R^2: %.4f\" % r2)\n",
    "print('for urban:')\n",
    "mse = mean_squared_error(y_test1, clfg1.predict(X_test1))\n",
    "print(\"MSE: %.4f\" % mse)\n",
    "mae = mean_absolute_error(y_test1, clfg1.predict(X_test1))\n",
    "print(\"MAE: %.4f\" % mae)\n",
    "r2 = r2_score(y_test1, clfg.predict(X_test1))\n",
    "print(\"R^2: %.4f\" % r2)\n",
    "print('for rural+urban:')\n",
    "mse = mean_squared_error(y_test2, clfg.predict(X_test2))\n",
    "print(\"MSE: %.4f\" % mse)\n",
    "mae = mean_absolute_error(y_test2, clfg.predict(X_test2))\n",
    "print(\"MAE: %.4f\" % mae)\n",
    "r2 = r2_score(y_test2, clfg.predict(X_test2))\n",
    "print(\"R^2: %.4f\" % r2)\n"
   ]
  },
  {
   "cell_type": "code",
   "execution_count": 24,
   "metadata": {},
   "outputs": [
    {
     "data": {
      "text/plain": [
       "array([127.14060614, 110.60003839, 119.01594104, 114.05263305,\n",
       "       124.41439099, 106.09372945, 116.01842124, 129.62488342,\n",
       "       125.32731988, 120.25290785, 110.03701893, 122.36477055,\n",
       "       119.63048416, 124.42900433, 124.18624141, 129.73223745])"
      ]
     },
     "execution_count": 24,
     "metadata": {},
     "output_type": "execute_result"
    }
   ],
   "source": [
    "predi=clfg.predict(X_test)\n",
    "predi"
   ]
  },
  {
   "cell_type": "code",
   "execution_count": 25,
   "metadata": {},
   "outputs": [
    {
     "data": {
      "text/plain": [
       "0.9612149104106716"
      ]
     },
     "execution_count": 25,
     "metadata": {},
     "output_type": "execute_result"
    }
   ],
   "source": [
    "clfg.score(X_test,y_test)"
   ]
  },
  {
   "cell_type": "code",
   "execution_count": 26,
   "metadata": {},
   "outputs": [
    {
     "ename": "NameError",
     "evalue": "name 'pickle' is not defined",
     "output_type": "error",
     "traceback": [
      "\u001b[1;31m---------------------------------------------------------------------------\u001b[0m",
      "\u001b[1;31mNameError\u001b[0m                                 Traceback (most recent call last)",
      "\u001b[1;32m<ipython-input-26-f076c9b0aa60>\u001b[0m in \u001b[0;36m<module>\u001b[1;34m\u001b[0m\n\u001b[0;32m      1\u001b[0m \u001b[1;32mwith\u001b[0m \u001b[0mopen\u001b[0m\u001b[1;33m(\u001b[0m\u001b[1;34m'model1_pickle'\u001b[0m\u001b[1;33m,\u001b[0m\u001b[1;34m'wb'\u001b[0m\u001b[1;33m)\u001b[0m \u001b[1;32mas\u001b[0m \u001b[0mfile\u001b[0m\u001b[1;33m:\u001b[0m\u001b[1;33m\u001b[0m\u001b[1;33m\u001b[0m\u001b[0m\n\u001b[1;32m----> 2\u001b[1;33m     \u001b[0mpickle\u001b[0m\u001b[1;33m.\u001b[0m\u001b[0mdump\u001b[0m\u001b[1;33m(\u001b[0m\u001b[0minputs_n\u001b[0m\u001b[1;33m,\u001b[0m\u001b[0mfile\u001b[0m\u001b[1;33m)\u001b[0m\u001b[1;33m\u001b[0m\u001b[1;33m\u001b[0m\u001b[0m\n\u001b[0m\u001b[0;32m      3\u001b[0m     \u001b[0mpickle\u001b[0m\u001b[1;33m.\u001b[0m\u001b[0mdump\u001b[0m\u001b[1;33m(\u001b[0m\u001b[0mX_train\u001b[0m\u001b[1;33m,\u001b[0m\u001b[0mfile\u001b[0m\u001b[1;33m)\u001b[0m\u001b[1;33m\u001b[0m\u001b[1;33m\u001b[0m\u001b[0m\n\u001b[0;32m      4\u001b[0m     \u001b[0mpickle\u001b[0m\u001b[1;33m.\u001b[0m\u001b[0mdump\u001b[0m\u001b[1;33m(\u001b[0m\u001b[0my_train\u001b[0m\u001b[1;33m,\u001b[0m\u001b[0mfile\u001b[0m\u001b[1;33m)\u001b[0m\u001b[1;33m\u001b[0m\u001b[1;33m\u001b[0m\u001b[0m\n\u001b[0;32m      5\u001b[0m     \u001b[0mpickle\u001b[0m\u001b[1;33m.\u001b[0m\u001b[0mdump\u001b[0m\u001b[1;33m(\u001b[0m\u001b[0mX_test\u001b[0m\u001b[1;33m,\u001b[0m\u001b[0mfile\u001b[0m\u001b[1;33m)\u001b[0m\u001b[1;33m\u001b[0m\u001b[1;33m\u001b[0m\u001b[0m\n",
      "\u001b[1;31mNameError\u001b[0m: name 'pickle' is not defined"
     ]
    }
   ],
   "source": [
    "with open('model1_pickle','wb') as file:\n",
    "    pickle.dump(inputs_n,file)\n",
    "    pickle.dump(X_train,file)\n",
    "    pickle.dump(y_train,file)\n",
    "    pickle.dump(X_test,file)\n",
    "    pickle.dump(y_test,file)"
   ]
  },
  {
   "cell_type": "code",
   "execution_count": 27,
   "metadata": {},
   "outputs": [
    {
     "name": "stdout",
     "output_type": "stream",
     "text": [
      "[126.42796323 109.20755412 117.07347588 109.26508269 122.78859735\n",
      " 109.26508269 117.01594731 131.41519802 126.42796323 122.78859735\n",
      " 109.14175412 122.78859735 122.78859735 126.42796323 122.78859735\n",
      " 131.41519802]\n",
      "[121.27524301 121.27524301 116.20416173 131.29375314 108.77422916\n",
      " 116.56473118 131.29375314 116.20416173 126.55929247 126.55929247\n",
      " 131.29375314 131.29375314 121.27524301 116.20416173 108.41365972\n",
      " 108.41365972]\n",
      "[111.48042064 111.55984921 133.77158471 122.33120425 133.80698471\n",
      " 118.04052037 118.04052037 118.11994894 111.54019564 129.69513043\n",
      " 111.60718254 129.73796376 134.20644018 133.80698471 133.77158471\n",
      " 118.16728228]\n"
     ]
    },
    {
     "data": {
      "text/plain": [
       "RandomForestRegressor(bootstrap=True, ccp_alpha=0.0, criterion='mse',\n",
       "                      max_depth=None, max_features='auto', max_leaf_nodes=None,\n",
       "                      max_samples=None, min_impurity_decrease=0.0,\n",
       "                      min_impurity_split=None, min_samples_leaf=1,\n",
       "                      min_samples_split=2, min_weight_fraction_leaf=0.0,\n",
       "                      n_estimators=100, n_jobs=None, oob_score=False,\n",
       "                      random_state=None, verbose=0, warm_start=False)"
      ]
     },
     "execution_count": 27,
     "metadata": {},
     "output_type": "execute_result"
    }
   ],
   "source": [
    "#RandomForestRegressor\n",
    "RandomForestRegressor()\n",
    "regr = RandomForestRegressor(max_depth=2, random_state=0,n_estimators=100)\n",
    "regr.fit(X_train, y_train)\n",
    "print(regr.predict(X_test))\n",
    "regr1 = RandomForestRegressor(max_depth=2, random_state=0,n_estimators=100)\n",
    "regr1.fit(X_train1, y_train1)\n",
    "print(regr1.predict(X_test1))\n",
    "regr2 = RandomForestRegressor(max_depth=2, random_state=0,n_estimators=100)\n",
    "regr2.fit(X_train2, y_train2)\n",
    "print(regr2.predict(X_test2))\n",
    "RandomForestRegressor()\n"
   ]
  },
  {
   "cell_type": "code",
   "execution_count": 28,
   "metadata": {},
   "outputs": [
    {
     "data": {
      "text/plain": [
       "0.8963679822011574"
      ]
     },
     "execution_count": 28,
     "metadata": {},
     "output_type": "execute_result"
    }
   ],
   "source": [
    "regr.score(X_train,y_train)"
   ]
  },
  {
   "cell_type": "code",
   "execution_count": 29,
   "metadata": {},
   "outputs": [
    {
     "data": {
      "text/plain": [
       "0.8976852583246362"
      ]
     },
     "execution_count": 29,
     "metadata": {},
     "output_type": "execute_result"
    }
   ],
   "source": [
    "reg.score(X_train,y_train)"
   ]
  },
  {
   "cell_type": "code",
   "execution_count": 30,
   "metadata": {},
   "outputs": [
    {
     "data": {
      "text/plain": [
       "43    128.4\n",
       "5     109.7\n",
       "21    119.1\n",
       "8     113.2\n",
       "33    124.2\n",
       "4     106.6\n",
       "14    113.7\n",
       "53    129.9\n",
       "40    126.6\n",
       "26    119.1\n",
       "7     112.7\n",
       "27    119.7\n",
       "24    118.5\n",
       "36    124.2\n",
       "32    123.5\n",
       "54    131.8\n",
       "Name: General_index, dtype: float64"
      ]
     },
     "execution_count": 30,
     "metadata": {},
     "output_type": "execute_result"
    }
   ],
   "source": [
    "y_test"
   ]
  },
  {
   "cell_type": "code",
   "execution_count": 31,
   "metadata": {},
   "outputs": [
    {
     "name": "stdout",
     "output_type": "stream",
     "text": [
      "for rural:\n",
      "MSE: 6.6221\n",
      "MAE: 2.2159\n",
      "R^2: 0.8720\n",
      "for urban:\n",
      "MSE: 6.7882\n",
      "MAE: 2.2773\n",
      "R^2: 0.8536\n",
      "for rural+urban:\n",
      "MSE: 13.0353\n",
      "MAE: 3.0513\n",
      "R^2: 0.8858\n"
     ]
    }
   ],
   "source": [
    "print(\"----------For Random Forest Regression----------\")\n",
    "\n",
    "print('for rural:')\n",
    "mse = mean_squared_error(y_test, regr.predict(X_test))\n",
    "print(\"MSE: %.4f\" % mse)\n",
    "mae = mean_absolute_error(y_test, regr.predict(X_test))\n",
    "print(\"MAE: %.4f\" % mae)\n",
    "r2 = r2_score(y_test, regr.predict(X_test))\n",
    "print(\"R^2: %.4f\" % r2)\n",
    "print('for urban:')\n",
    "mse = mean_squared_error(y_test1, regr.predict(X_test1))\n",
    "print(\"MSE: %.4f\" % mse)\n",
    "mae = mean_absolute_error(y_test1, regr.predict(X_test1))\n",
    "print(\"MAE: %.4f\" % mae)\n",
    "r2 = r2_score(y_test1, regr.predict(X_test1))\n",
    "print(\"R^2: %.4f\" % r2)\n",
    "print('for rural+urban:')\n",
    "mse = mean_squared_error(y_test2, regr.predict(X_test2))\n",
    "print(\"MSE: %.4f\" % mse)\n",
    "mae = mean_absolute_error(y_test2, regr.predict(X_test2))\n",
    "print(\"MAE: %.4f\" % mae)\n",
    "r2 = r2_score(y_test2, regr.predict(X_test2))\n",
    "print(\"R^2: %.4f\" % r2)"
   ]
  },
  {
   "cell_type": "code",
   "execution_count": 32,
   "metadata": {},
   "outputs": [
    {
     "data": {
      "text/plain": [
       "Lasso(alpha=0.1, copy_X=True, fit_intercept=True, max_iter=1000,\n",
       "      normalize=False, positive=False, precompute=False, random_state=None,\n",
       "      selection='cyclic', tol=0.0001, warm_start=False)"
      ]
     },
     "execution_count": 32,
     "metadata": {},
     "output_type": "execute_result"
    }
   ],
   "source": [
    "#Lasso regresssion\n",
    "clfi = linear_model.Lasso(alpha=0.1)\n",
    "clfi.fit(X_train, y_train)\n",
    "clfi1 = linear_model.Lasso(alpha=0.1)\n",
    "clfi1.fit(X_train1, y_train1)\n",
    "clfi2 = linear_model.Lasso(alpha=0.1)\n",
    "clfi2.fit(X_train2, y_train2)"
   ]
  },
  {
   "cell_type": "code",
   "execution_count": 33,
   "metadata": {},
   "outputs": [
    {
     "name": "stdout",
     "output_type": "stream",
     "text": [
      "MSE: 5.0454\n",
      "MAE: 1.8504\n",
      "R^2: 0.9025\n"
     ]
    }
   ],
   "source": [
    "mse = mean_squared_error(y_test, clfi.predict(X_test))\n",
    "print(\"MSE: %.4f\" % mse)\n",
    "mae = mean_absolute_error(y_test, clfi.predict(X_test))\n",
    "print(\"MAE: %.4f\" % mae)\n",
    "r2 = r2_score(y_test, clfi.predict(X_test))\n",
    "print(\"R^2: %.4f\" % r2)"
   ]
  },
  {
   "cell_type": "code",
   "execution_count": 34,
   "metadata": {},
   "outputs": [
    {
     "data": {
      "text/plain": [
       "0.8976205055866016"
      ]
     },
     "execution_count": 34,
     "metadata": {},
     "output_type": "execute_result"
    }
   ],
   "source": [
    "clfi.score(X_train,y_train)"
   ]
  },
  {
   "cell_type": "code",
   "execution_count": 35,
   "metadata": {},
   "outputs": [
    {
     "data": {
      "text/plain": [
       "0.9024667833810269"
      ]
     },
     "execution_count": 35,
     "metadata": {},
     "output_type": "execute_result"
    }
   ],
   "source": [
    "clfi.score(X_test,y_test)"
   ]
  },
  {
   "cell_type": "code",
   "execution_count": null,
   "metadata": {},
   "outputs": [],
   "source": []
  },
  {
   "cell_type": "code",
   "execution_count": 36,
   "metadata": {},
   "outputs": [],
   "source": [
    "predic=clfi.predict(X_test)"
   ]
  },
  {
   "cell_type": "code",
   "execution_count": 37,
   "metadata": {},
   "outputs": [
    {
     "data": {
      "text/plain": [
       "array([124.99699459, 111.23336458, 117.34741784, 112.57999098,\n",
       "       122.38416997, 111.77201514, 116.539442  , 131.38037312,\n",
       "       126.88227155, 121.57619413, 109.88673819, 119.69091718,\n",
       "       120.7682183 , 125.80497043, 122.65349525, 131.11104784])"
      ]
     },
     "execution_count": 37,
     "metadata": {},
     "output_type": "execute_result"
    }
   ],
   "source": [
    "predic"
   ]
  },
  {
   "cell_type": "code",
   "execution_count": 47,
   "metadata": {},
   "outputs": [
    {
     "data": {
      "text/plain": [
       "33    124.2\n",
       "29    121.7\n",
       "40    126.6\n",
       "7     112.7\n",
       "22    119.0\n",
       "17    116.4\n",
       "44    128.0\n",
       "62    134.0\n",
       "15    114.7\n",
       "23    118.4\n",
       "52    129.3\n",
       "36    124.2\n",
       "43    128.4\n",
       "38    123.8\n",
       "18    118.9\n",
       "42    129.0\n",
       "Name: General_index, dtype: float64"
      ]
     },
     "execution_count": 47,
     "metadata": {},
     "output_type": "execute_result"
    }
   ],
   "source": [
    "y_test"
   ]
  },
  {
   "cell_type": "code",
   "execution_count": 48,
   "metadata": {},
   "outputs": [
    {
     "data": {
      "text/plain": [
       "numpy.ndarray"
      ]
     },
     "execution_count": 48,
     "metadata": {},
     "output_type": "execute_result"
    }
   ],
   "source": [
    "type(predi)"
   ]
  },
  {
   "cell_type": "code",
   "execution_count": 38,
   "metadata": {},
   "outputs": [
    {
     "name": "stdout",
     "output_type": "stream",
     "text": [
      "          Ridge    Linear   XGBoost  RandomForest     Lasso\n",
      "TRAIN  0.897627  0.997052  0.997052      0.896368  0.897621\n",
      "TEST   0.901938  0.902794  0.961215      0.871987  0.902467\n",
      "          Ridge    Linear   XGBoost  RandomForest     Lasso\n",
      "TRAIN  0.897627  0.997052  0.997052      0.896368  0.897621\n",
      "TEST   0.901938  0.902794  0.961215      0.871987  0.902467\n"
     ]
    }
   ],
   "source": [
    "import pandas as pd\n",
    "d={'Ridge': [clf.score(X_train,y_train), clf.score(X_test,y_test)] ,'Linear': [clfg.score(X_train,y_train), reg.score(X_test,y_test)], 'XGBoost': [clfg.score(X_train,y_train), clfg.score(X_test,y_test)] ,'RandomForest':[regr.score(X_train,y_train), regr.score(X_test,y_test)] ,'Lasso':[clfi.score(X_train,y_train), clfi.score(X_test,y_test)]}\n",
    "\n",
    "scoresu  = pd.DataFrame(data=d)\n",
    "scoresu=scoresu.rename({0: 'TRAIN', 1: 'TEST'})\n",
    "print(scoresu)\n",
    "\n",
    "d={'Ridge': [clf1.score(X_train1,y_train1), clf1.score(X_test1,y_test1)] ,'Linear': [reg1.score(X_train1,y_train1), reg1.score(X_test1,y_test1)], 'XGBoost': [clfg1.score(X_train1,y_train1), clfg1.score(X_test1,y_test1)] ,'RandomForest':[regr1.score(X_train1,y_train1), regr1.score(X_test1,y_test1)] ,'Lasso':[clfi1.score(X_train,y_train), clfi1.score(X_test1,y_test1)]}\n",
    "\n",
    "scoresr  = pd.DataFrame(data=d)\n",
    "scoresr=scoresu.rename({0: 'TRAIN', 1: 'TEST'})\n",
    "print(scoresr)"
   ]
  },
  {
   "cell_type": "code",
   "execution_count": 39,
   "metadata": {},
   "outputs": [
    {
     "name": "stdout",
     "output_type": "stream",
     "text": [
      "                    MSE       MAE  R_SQUARE\n",
      "Ridge          5.072765  1.850772  0.901938\n",
      "Linear         5.028440  1.853379  0.902794\n",
      "XGBoost        6.622113  2.215862  0.871987\n",
      "Random forest  2.006351  1.142322  0.961215\n",
      "LASSO          5.045389  1.850380  0.902467\n",
      "\n",
      "for rural:\n",
      "                     MSE       MAE  R_SQUARE\n",
      "Ridge          11.610414  2.976262  0.749521\n",
      "Linear         11.917117  3.012601  0.742904\n",
      "XGBoost         9.343236  2.736578  0.798432\n",
      "Random forest  10.991686  2.544332  0.762869\n",
      "LASSO          11.549815  2.968068  0.750828\n",
      "\n",
      "for rural/urban:\n",
      "                     MSE       MAE  R_SQUARE\n",
      "Ridge          12.400270  3.120352  0.891376\n",
      "Linear         12.197100  3.107754  0.893156\n",
      "XGBoost        13.401284  3.349832  0.882608\n",
      "Random forest   4.732788  1.792464  0.958542\n",
      "LASSO          12.382237  3.123634  0.891534\n"
     ]
    }
   ],
   "source": [
    "\n",
    "d={'MSE': [mean_squared_error(y_test, clf.predict(X_test)), mean_squared_error(y_test, reg.predict(X_test)), mean_squared_error(y_test, regr.predict(X_test)), mean_squared_error(y_test, clfg.predict(X_test)), mean_squared_error(y_test, clfi.predict(X_test))] ,'MAE': [mean_absolute_error(y_test, clf.predict(X_test)), mean_absolute_error(y_test, reg.predict(X_test)), mean_absolute_error(y_test, regr.predict(X_test)), mean_absolute_error(y_test, clfg.predict(X_test)), mean_absolute_error(y_test, clfi.predict(X_test))], 'R_SQUARE':[r2_score(y_test, clf.predict(X_test)), r2_score(y_test, reg.predict(X_test)), r2_score(y_test, regr.predict(X_test)), r2_score(y_test, clfg.predict(X_test)), r2_score(y_test, clfi.predict(X_test))] }\n",
    "\n",
    "errors  = pd.DataFrame(data=d)\n",
    "errors=errors.rename({0: 'Ridge', 1: 'Linear', 2: 'XGBoost', 3: 'Random forest', 4:'LASSO'})\n",
    "print(errors)\n",
    "print(\"\\nfor rural:\")\n",
    "import pandas as pd\n",
    "d={'MSE': [mean_squared_error(y_test1, clf1.predict(X_test1)), mean_squared_error(y_test1, reg1.predict(X_test1)), mean_squared_error(y_test1, regr1.predict(X_test1)), mean_squared_error(y_test1, clfg1.predict(X_test1)), mean_squared_error(y_test1, clfi1.predict(X_test1))] ,'MAE': [mean_absolute_error(y_test1, clf1.predict(X_test1)), mean_absolute_error(y_test1, reg1.predict(X_test1)), mean_absolute_error(y_test1, regr1.predict(X_test1)), mean_absolute_error(y_test1, clfg1.predict(X_test1)), mean_absolute_error(y_test1, clfi1.predict(X_test1))], 'R_SQUARE':[r2_score(y_test1, clf1.predict(X_test1)), r2_score(y_test1, reg1.predict(X_test1)), r2_score(y_test1, regr1.predict(X_test1)), r2_score(y_test1, clfg1.predict(X_test1)), r2_score(y_test1, clfi1.predict(X_test1))] }\n",
    "\n",
    "errors  = pd.DataFrame(data=d)\n",
    "errors=errors.rename({0: 'Ridge', 1: 'Linear', 2: 'XGBoost', 3: 'Random forest', 4:'LASSO'})\n",
    "print(errors)\n",
    "\n",
    "print(\"\\nfor rural/urban:\")\n",
    "import pandas as pd\n",
    "d={'MSE': [mean_squared_error(y_test2, clf2.predict(X_test2)), mean_squared_error(y_test2, reg2.predict(X_test2)), mean_squared_error(y_test2, regr2.predict(X_test2)), mean_squared_error(y_test2, clfg2.predict(X_test2)), mean_squared_error(y_test2, clfi2.predict(X_test2))] ,'MAE': [mean_absolute_error(y_test2, clf2.predict(X_test2)), mean_absolute_error(y_test2, reg2.predict(X_test2)), mean_absolute_error(y_test2, regr2.predict(X_test2)), mean_absolute_error(y_test2, clfg2.predict(X_test2)), mean_absolute_error(y_test2, clfi2.predict(X_test2))], 'R_SQUARE':[r2_score(y_test2, clf2.predict(X_test2)), r2_score(y_test2, reg2.predict(X_test2)), r2_score(y_test2, regr2.predict(X_test2)), r2_score(y_test2, clfg2.predict(X_test2)), r2_score(y_test2, clfi2.predict(X_test2))] }\n",
    "\n",
    "errors  = pd.DataFrame(data=d)\n",
    "errors=errors.rename({0: 'Ridge', 1: 'Linear', 2: 'XGBoost', 3: 'Random forest', 4:'LASSO'})\n",
    "print(errors)\n",
    "\n"
   ]
  },
  {
   "cell_type": "code",
   "execution_count": 51,
   "metadata": {},
   "outputs": [],
   "source": [
    "\n",
    "\n",
    "def average(x):\n",
    "    assert len(x) > 0\n",
    "    return float(sum(x)) / len(x)\n",
    "\n",
    "def pearson_def(x, y):\n",
    "    assert len(x) == len(y)\n",
    "    n = len(x)\n",
    "    assert n > 0\n",
    "    avg_x = average(x)\n",
    "    avg_y = average(y)\n",
    "    diffprod = 0\n",
    "    xdiff2 = 0\n",
    "    ydiff2 = 0\n",
    "    for idx in range(n):\n",
    "        xdiff = x[idx] - avg_x\n",
    "        ydiff = y[idx] - avg_y\n",
    "        diffprod += xdiff * ydiff\n",
    "        xdiff2 += xdiff * xdiff\n",
    "        ydiff2 += ydiff * ydiff\n",
    "\n",
    "    return diffprod / math.sqrt(xdiff2 * ydiff2)"
   ]
  },
  {
   "cell_type": "code",
   "execution_count": 52,
   "metadata": {},
   "outputs": [
    {
     "name": "stdout",
     "output_type": "stream",
     "text": [
      "0.22408416668877942\n"
     ]
    }
   ],
   "source": [
    "print(pearson_def(inputs['Fruits'],inputs['Vegetables']))"
   ]
  },
  {
   "cell_type": "code",
   "execution_count": 53,
   "metadata": {},
   "outputs": [
    {
     "name": "stdout",
     "output_type": "stream",
     "text": [
      "[0.9516731375387565, 0.9630946323473102, 0.7785537835092294, 0.9805721966627748, 0.9240735111723977, 0.8721334597882334, 0.327705130357471, 0.4772667082800266, 0.6012328916417434, 0.9293489819403532, 0.9888261248945421, 0.987282492946584, 0.9707656299808395, 0.9840155915246172, 0.988592958721014, 0.9873279714886858, 0.9886318898394073, 0.9856299015837332, 0.9304114779452426, 0.9891169436259195, 0.9795733663486113, 0.833803344293391, 0.9891556099024601, 0.9916825067232684, 0.9661079697472599]\n"
     ]
    }
   ],
   "source": [
    "# correlation between the 'general index' column and other column\n",
    "\n",
    "corelation=[]\n",
    "list2=inputs_n['General_index']\n",
    "len(inputs_n.columns)\n",
    "for i in range(0,len(inputs_n.columns)-5):\n",
    "    list=inputs_n.iloc[:,i]\n",
    "    corelation.append(pearson_def(list2, list))\n",
    "print(corelation)\n",
    "    "
   ]
  },
  {
   "cell_type": "code",
   "execution_count": 54,
   "metadata": {},
   "outputs": [
    {
     "name": "stdout",
     "output_type": "stream",
     "text": [
      "0.9916825067232684\n"
     ]
    }
   ],
   "source": [
    "print(max(corelation))"
   ]
  },
  {
   "cell_type": "code",
   "execution_count": 55,
   "metadata": {},
   "outputs": [
    {
     "name": "stdout",
     "output_type": "stream",
     "text": [
      "23\n"
     ]
    }
   ],
   "source": [
    "print(corelation.index(max(corelation)))"
   ]
  },
  {
   "cell_type": "code",
   "execution_count": 56,
   "metadata": {},
   "outputs": [
    {
     "data": {
      "text/plain": [
       "'Education'"
      ]
     },
     "execution_count": 56,
     "metadata": {},
     "output_type": "execute_result"
    }
   ],
   "source": [
    "inputs_n.columns.values[corelation.index(max(corelation))]"
   ]
  },
  {
   "cell_type": "code",
   "execution_count": 57,
   "metadata": {},
   "outputs": [
    {
     "name": "stdout",
     "output_type": "stream",
     "text": [
      "Vegetables\n"
     ]
    }
   ],
   "source": [
    "print(inputs_n.columns.values[corelation.index(min(corelation))])"
   ]
  },
  {
   "cell_type": "code",
   "execution_count": 58,
   "metadata": {},
   "outputs": [
    {
     "name": "stdout",
     "output_type": "stream",
     "text": [
      "[0.32770513 0.47726671 0.60123289 0.77855378 0.83380334 0.87213346\n",
      " 0.92407351 0.92934898 0.93041148 0.95167314 0.96309463 0.96610797\n",
      " 0.97076563 0.97957337 0.9805722  0.98401559 0.9856299  0.98728249\n",
      " 0.98732797 0.98859296 0.98863189 0.98882612 0.98911694 0.98915561\n",
      " 0.99168251]\n",
      "[ 6  7  8  2 21  5  4  9 18  0  1 24 12 20  3 13 17 11 15 14 16 10 19 22\n",
      " 23]\n"
     ]
    }
   ],
   "source": [
    "import numpy as np\n",
    "corelation=[]\n",
    "list2=inputs_n['General_index']\n",
    "len(inputs_n.columns)\n",
    "for i in range(0,len(inputs_n.columns)-5):\n",
    "    list=inputs_n.iloc[:,i]\n",
    "    corelation.append(pearson_def(list, list2))\n",
    "x=np.sort(corelation)\n",
    "index1=np.argsort(corelation)\n",
    "print(x)\n",
    "print(index1)"
   ]
  },
  {
   "cell_type": "code",
   "execution_count": 59,
   "metadata": {},
   "outputs": [
    {
     "name": "stdout",
     "output_type": "stream",
     "text": [
      "['Education', 'Recreation_and _amusement', 'Household_goods_ and_services', 'Non-alcoholic beverages', 'Clothing_and_footwear']\n"
     ]
    }
   ],
   "source": [
    "factors=[]\n",
    "i=len(x)-1\n",
    "while i>len(x)-6:\n",
    "    factors.append(inputs_n.columns.values[index1[i]])\n",
    "    i=i-1\n",
    "print(factors)"
   ]
  },
  {
   "cell_type": "code",
   "execution_count": 60,
   "metadata": {},
   "outputs": [
    {
     "data": {
      "text/html": [
       "<div>\n",
       "<style scoped>\n",
       "    .dataframe tbody tr th:only-of-type {\n",
       "        vertical-align: middle;\n",
       "    }\n",
       "\n",
       "    .dataframe tbody tr th {\n",
       "        vertical-align: top;\n",
       "    }\n",
       "\n",
       "    .dataframe thead th {\n",
       "        text-align: right;\n",
       "    }\n",
       "</style>\n",
       "<table border=\"1\" class=\"dataframe\">\n",
       "  <thead>\n",
       "    <tr style=\"text-align: right;\">\n",
       "      <th></th>\n",
       "      <th>Sector</th>\n",
       "      <th>Year</th>\n",
       "      <th>Month</th>\n",
       "      <th>Cereals_and_products</th>\n",
       "      <th>Meat_and_fish</th>\n",
       "      <th>Egg</th>\n",
       "      <th>Milk_and_products</th>\n",
       "      <th>Oils_and_fats</th>\n",
       "      <th>Fruits</th>\n",
       "      <th>Vegetables</th>\n",
       "      <th>...</th>\n",
       "      <th>Health</th>\n",
       "      <th>Transport_and_ communication</th>\n",
       "      <th>Recreation_and _amusement</th>\n",
       "      <th>Education</th>\n",
       "      <th>Personal_care_and_effects</th>\n",
       "      <th>Miscellaneous</th>\n",
       "      <th>General_index</th>\n",
       "      <th>sector_n</th>\n",
       "      <th>year_n</th>\n",
       "      <th>month_n</th>\n",
       "    </tr>\n",
       "  </thead>\n",
       "  <tbody>\n",
       "    <tr>\n",
       "      <th>0</th>\n",
       "      <td>Urban</td>\n",
       "      <td>2013</td>\n",
       "      <td>January</td>\n",
       "      <td>110.5</td>\n",
       "      <td>109.1</td>\n",
       "      <td>113.0</td>\n",
       "      <td>103.6</td>\n",
       "      <td>103.4</td>\n",
       "      <td>102.3</td>\n",
       "      <td>102.9</td>\n",
       "      <td>...</td>\n",
       "      <td>104.1</td>\n",
       "      <td>103.2</td>\n",
       "      <td>102.9</td>\n",
       "      <td>103.5</td>\n",
       "      <td>104.3</td>\n",
       "      <td>103.7</td>\n",
       "      <td>104.0</td>\n",
       "      <td>0</td>\n",
       "      <td>0</td>\n",
       "      <td>4</td>\n",
       "    </tr>\n",
       "    <tr>\n",
       "      <th>1</th>\n",
       "      <td>Urban</td>\n",
       "      <td>2013</td>\n",
       "      <td>February</td>\n",
       "      <td>112.9</td>\n",
       "      <td>112.9</td>\n",
       "      <td>116.9</td>\n",
       "      <td>104.0</td>\n",
       "      <td>103.5</td>\n",
       "      <td>103.1</td>\n",
       "      <td>104.9</td>\n",
       "      <td>...</td>\n",
       "      <td>104.7</td>\n",
       "      <td>104.4</td>\n",
       "      <td>103.3</td>\n",
       "      <td>103.7</td>\n",
       "      <td>104.3</td>\n",
       "      <td>104.3</td>\n",
       "      <td>104.7</td>\n",
       "      <td>0</td>\n",
       "      <td>0</td>\n",
       "      <td>3</td>\n",
       "    </tr>\n",
       "    <tr>\n",
       "      <th>2</th>\n",
       "      <td>Urban</td>\n",
       "      <td>2013</td>\n",
       "      <td>March</td>\n",
       "      <td>113.9</td>\n",
       "      <td>111.4</td>\n",
       "      <td>113.2</td>\n",
       "      <td>104.3</td>\n",
       "      <td>102.7</td>\n",
       "      <td>104.9</td>\n",
       "      <td>103.8</td>\n",
       "      <td>...</td>\n",
       "      <td>105.2</td>\n",
       "      <td>105.5</td>\n",
       "      <td>103.5</td>\n",
       "      <td>103.8</td>\n",
       "      <td>104.2</td>\n",
       "      <td>104.9</td>\n",
       "      <td>105.0</td>\n",
       "      <td>0</td>\n",
       "      <td>0</td>\n",
       "      <td>7</td>\n",
       "    </tr>\n",
       "    <tr>\n",
       "      <th>3</th>\n",
       "      <td>Urban</td>\n",
       "      <td>2013</td>\n",
       "      <td>April</td>\n",
       "      <td>114.6</td>\n",
       "      <td>113.4</td>\n",
       "      <td>106.0</td>\n",
       "      <td>104.7</td>\n",
       "      <td>102.1</td>\n",
       "      <td>109.5</td>\n",
       "      <td>109.7</td>\n",
       "      <td>...</td>\n",
       "      <td>105.7</td>\n",
       "      <td>105.0</td>\n",
       "      <td>104.0</td>\n",
       "      <td>105.2</td>\n",
       "      <td>103.2</td>\n",
       "      <td>105.1</td>\n",
       "      <td>105.7</td>\n",
       "      <td>0</td>\n",
       "      <td>0</td>\n",
       "      <td>0</td>\n",
       "    </tr>\n",
       "    <tr>\n",
       "      <th>4</th>\n",
       "      <td>Urban</td>\n",
       "      <td>2013</td>\n",
       "      <td>May</td>\n",
       "      <td>115.4</td>\n",
       "      <td>114.2</td>\n",
       "      <td>102.7</td>\n",
       "      <td>105.5</td>\n",
       "      <td>101.5</td>\n",
       "      <td>110.6</td>\n",
       "      <td>123.7</td>\n",
       "      <td>...</td>\n",
       "      <td>106.2</td>\n",
       "      <td>103.9</td>\n",
       "      <td>104.6</td>\n",
       "      <td>105.7</td>\n",
       "      <td>102.6</td>\n",
       "      <td>104.9</td>\n",
       "      <td>106.6</td>\n",
       "      <td>0</td>\n",
       "      <td>0</td>\n",
       "      <td>8</td>\n",
       "    </tr>\n",
       "  </tbody>\n",
       "</table>\n",
       "<p>5 rows × 33 columns</p>\n",
       "</div>"
      ],
      "text/plain": [
       "  Sector  Year     Month  Cereals_and_products  Meat_and_fish    Egg  \\\n",
       "0  Urban  2013   January                 110.5          109.1  113.0   \n",
       "1  Urban  2013  February                 112.9          112.9  116.9   \n",
       "2  Urban  2013     March                 113.9          111.4  113.2   \n",
       "3  Urban  2013     April                 114.6          113.4  106.0   \n",
       "4  Urban  2013       May                 115.4          114.2  102.7   \n",
       "\n",
       "   Milk_and_products  Oils_and_fats  Fruits  Vegetables   ...     Health  \\\n",
       "0              103.6          103.4   102.3       102.9   ...      104.1   \n",
       "1              104.0          103.5   103.1       104.9   ...      104.7   \n",
       "2              104.3          102.7   104.9       103.8   ...      105.2   \n",
       "3              104.7          102.1   109.5       109.7   ...      105.7   \n",
       "4              105.5          101.5   110.6       123.7   ...      106.2   \n",
       "\n",
       "   Transport_and_ communication  Recreation_and _amusement  Education  \\\n",
       "0                         103.2                      102.9      103.5   \n",
       "1                         104.4                      103.3      103.7   \n",
       "2                         105.5                      103.5      103.8   \n",
       "3                         105.0                      104.0      105.2   \n",
       "4                         103.9                      104.6      105.7   \n",
       "\n",
       "   Personal_care_and_effects  Miscellaneous  General_index  sector_n  year_n  \\\n",
       "0                      104.3          103.7          104.0         0       0   \n",
       "1                      104.3          104.3          104.7         0       0   \n",
       "2                      104.2          104.9          105.0         0       0   \n",
       "3                      103.2          105.1          105.7         0       0   \n",
       "4                      102.6          104.9          106.6         0       0   \n",
       "\n",
       "   month_n  \n",
       "0        4  \n",
       "1        3  \n",
       "2        7  \n",
       "3        0  \n",
       "4        8  \n",
       "\n",
       "[5 rows x 33 columns]"
      ]
     },
     "execution_count": 60,
     "metadata": {},
     "output_type": "execute_result"
    }
   ],
   "source": [
    "df.head()"
   ]
  },
  {
   "cell_type": "code",
   "execution_count": 61,
   "metadata": {},
   "outputs": [
    {
     "data": {
      "image/png": "[encoded data removed]",
      "text/plain": [
       "<Figure size 432x288 with 1 Axes>"
      ]
     },
     "metadata": {
      "needs_background": "light"
     },
     "output_type": "display_data"
    }
   ],
   "source": [
    "x = df.General_index\n",
    "y1=df[factors[0]]\n",
    "y2=df[factors[1]]\n",
    "y3=df[factors[2]]\n",
    "y4=df[factors[3]]\n",
    "y5=df[factors[4]]\n",
    "plt.plot(x, y1, label=factors[0])\n",
    "plt.plot(x, y2, label=factors[1])\n",
    "plt.plot(x, y3, label=factors[2])\n",
    "plt.plot(x, y4, label=factors[3])\n",
    "plt.plot(x, y5, label=factors[4])\n",
    "plt.xlabel('FACTORS(cpi)')\n",
    "plt.ylabel('GENERAL INDEX(cpi)')\n",
    "\n",
    "plt.title(\"FACTORS AFFECTING INFLATION in Urban sector\")\n",
    "\n",
    "plt.legend()\n",
    "\n",
    "plt.show()\n"
   ]
  },
  {
   "cell_type": "code",
   "execution_count": 62,
   "metadata": {},
   "outputs": [
    {
     "name": "stdout",
     "output_type": "stream",
     "text": [
      "[0.49987851 0.5988713  0.69721059 0.9210381  0.95776661 0.95781898\n",
      " 0.96188848 0.97023023 0.97039479 0.97567852 0.97924164 0.97995397\n",
      " 0.98303667 0.98444441 0.9845585  0.98496699 0.98514309 0.98610247\n",
      " 0.98637134 0.98641706 0.98647515 0.98700772 0.9871866  0.98801035\n",
      "        nan]\n",
      "[ 6  8  7  2 24  4  9 21  5 18 13 22 20 19 23 10 11  3  0 14 16 15  1 12\n",
      " 17]\n"
     ]
    }
   ],
   "source": [
    "import numpy as np\n",
    "corelation=[]\n",
    "list2=inputs_n1['General_index']\n",
    "len(inputs_n1.columns)\n",
    "for i in range(0,len(inputs_n1.columns)-5):\n",
    "    list=inputs_n1.iloc[:,i]\n",
    "    corelation.append(pearson_def(list, list2))\n",
    "x=np.sort(corelation)\n",
    "index2=np.argsort(corelation)\n",
    "print(x)\n",
    "print(index2)"
   ]
  },
  {
   "cell_type": "code",
   "execution_count": 63,
   "metadata": {},
   "outputs": [
    {
     "name": "stdout",
     "output_type": "stream",
     "text": [
      "['Housing', 'Food_and_beverages', 'Meat_and_fish', 'Footwear', 'Clothing_and_footwear']\n"
     ]
    }
   ],
   "source": [
    "factors1=[]\n",
    "i=len(x)-1\n",
    "while i>len(x)-6:\n",
    "    factors1.append(inputs_n1.columns.values[index2[i]])\n",
    "    i=i-1\n",
    "print(factors1)"
   ]
  },
  {
   "cell_type": "code",
   "execution_count": 64,
   "metadata": {},
   "outputs": [
    {
     "data": {
      "image/png": "[encoded data removed]",
      "text/plain": [
       "<Figure size 432x288 with 1 Axes>"
      ]
     },
     "metadata": {
      "needs_background": "light"
     },
     "output_type": "display_data"
    }
   ],
   "source": [
    "x = df1.General_index\n",
    "y1=df1[factors1[0]]\n",
    "y2=df1[factors1[1]]\n",
    "y3=df1[factors1[2]]\n",
    "y4=df1[factors1[3]]\n",
    "y5=df1[factors1[4]]\n",
    "plt.plot(x, y1, label=factors1[0])\n",
    "plt.plot(x, y2, label=factors1[1])\n",
    "plt.plot(x, y3, label=factors1[2])\n",
    "plt.plot(x, y4, label=factors1[3])\n",
    "plt.plot(x, y5, label=factors1[4])\n",
    "plt.xlabel('FACTORS(cpi)')\n",
    "plt.ylabel('GENERAL INDEX(cpi)')\n",
    "\n",
    "plt.title(\"FACTORS AFFECTING INFLATION in Rural sector\")\n",
    "\n",
    "plt.legend()\n",
    "\n",
    "plt.show()\n"
   ]
  },
  {
   "cell_type": "code",
   "execution_count": null,
   "metadata": {},
   "outputs": [],
   "source": []
  },
  {
   "cell_type": "code",
   "execution_count": null,
   "metadata": {},
   "outputs": [],
   "source": []
  }
 ],
 "metadata": {
  "kernelspec": {
   "display_name": "Python 3",
   "language": "python",
   "name": "python3"
  },
  "language_info": {
   "codemirror_mode": {
    "name": "ipython",
    "version": 3
   },
   "file_extension": ".py",
   "mimetype": "text/x-python",
   "name": "python",
   "nbconvert_exporter": "python",
   "pygments_lexer": "ipython3",
   "version": "3.7.3"
  }
 },
 "nbformat": 4,
 "nbformat_minor": 2
}
